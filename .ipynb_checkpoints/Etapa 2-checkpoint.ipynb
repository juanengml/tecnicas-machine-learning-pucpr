{
 "cells": [
  {
   "cell_type": "code",
   "execution_count": 3,
   "id": "db29519f",
   "metadata": {},
   "outputs": [],
   "source": [
    "import pandas as pd \n",
    "import numpy as np\n",
    "from sklearn.model_selection import train_test_split\n",
    "from sklearn.ensemble import RandomForestClassifier as FlorestaRandomica\n",
    "import pickle\n",
    "from datetime import datetime as dt "
   ]
  },
  {
   "cell_type": "code",
   "execution_count": null,
   "id": "fc2a2967",
   "metadata": {},
   "outputs": [],
   "source": []
  },
  {
   "cell_type": "code",
   "execution_count": 4,
   "id": "28a5a30c",
   "metadata": {},
   "outputs": [],
   "source": [
    "df = pd.read_csv('Base/treino_08_31_00_31-10-2021.csv', dtype=np.float64)"
   ]
  },
  {
   "cell_type": "code",
   "execution_count": 5,
   "id": "ba7c887e",
   "metadata": {},
   "outputs": [],
   "source": [
    "features = df.drop('round_winner', axis=1)\n",
    "\n",
    "train_feature, test_features, train_target, testing_target = \\\n",
    "            train_test_split(features, df['round_winner'], random_state=None)\n",
    "\n",
    "X_train, X_test, y_train, y_test  = train_feature, test_features, train_target, testing_target "
   ]
  },
  {
   "cell_type": "code",
   "execution_count": 6,
   "id": "767762ad",
   "metadata": {},
   "outputs": [
    {
     "name": "stdout",
     "output_type": "stream",
     "text": [
      "Total treino normal:  0:01:19.828525\n"
     ]
    }
   ],
   "source": [
    "inicio = dt.now()\n",
    "model = FlorestaRandomica(bootstrap=True, \n",
    "                          criterion=\"entropy\", \n",
    "                          max_features=0.4, \n",
    "                          min_samples_leaf=11,\n",
    "                          min_samples_split=5, \n",
    "                          n_estimators=100)\n",
    "model.fit(train_feature, train_target)\n",
    "print(\"Total treino normal: \",dt.now() - inicio)"
   ]
  },
  {
   "cell_type": "code",
   "execution_count": 7,
   "id": "781f0220",
   "metadata": {},
   "outputs": [
    {
     "data": {
      "text/html": [
       "<style>div.sk-top-container {color: black;background-color: white;}div.sk-toggleable {background-color: white;}label.sk-toggleable__label {cursor: pointer;display: block;width: 100%;margin-bottom: 0;padding: 0.2em 0.3em;box-sizing: border-box;text-align: center;}div.sk-toggleable__content {max-height: 0;max-width: 0;overflow: hidden;text-align: left;background-color: #f0f8ff;}div.sk-toggleable__content pre {margin: 0.2em;color: black;border-radius: 0.25em;background-color: #f0f8ff;}input.sk-toggleable__control:checked~div.sk-toggleable__content {max-height: 200px;max-width: 100%;overflow: auto;}div.sk-estimator input.sk-toggleable__control:checked~label.sk-toggleable__label {background-color: #d4ebff;}div.sk-label input.sk-toggleable__control:checked~label.sk-toggleable__label {background-color: #d4ebff;}input.sk-hidden--visually {border: 0;clip: rect(1px 1px 1px 1px);clip: rect(1px, 1px, 1px, 1px);height: 1px;margin: -1px;overflow: hidden;padding: 0;position: absolute;width: 1px;}div.sk-estimator {font-family: monospace;background-color: #f0f8ff;margin: 0.25em 0.25em;border: 1px dotted black;border-radius: 0.25em;box-sizing: border-box;}div.sk-estimator:hover {background-color: #d4ebff;}div.sk-parallel-item::after {content: \"\";width: 100%;border-bottom: 1px solid gray;flex-grow: 1;}div.sk-label:hover label.sk-toggleable__label {background-color: #d4ebff;}div.sk-serial::before {content: \"\";position: absolute;border-left: 1px solid gray;box-sizing: border-box;top: 2em;bottom: 0;left: 50%;}div.sk-serial {display: flex;flex-direction: column;align-items: center;background-color: white;}div.sk-item {z-index: 1;}div.sk-parallel {display: flex;align-items: stretch;justify-content: center;background-color: white;}div.sk-parallel-item {display: flex;flex-direction: column;position: relative;background-color: white;}div.sk-parallel-item:first-child::after {align-self: flex-end;width: 50%;}div.sk-parallel-item:last-child::after {align-self: flex-start;width: 50%;}div.sk-parallel-item:only-child::after {width: 0;}div.sk-dashed-wrapped {border: 1px dashed gray;margin: 0.2em;box-sizing: border-box;padding-bottom: 0.1em;background-color: white;position: relative;}div.sk-label label {font-family: monospace;font-weight: bold;background-color: white;display: inline-block;line-height: 1.2em;}div.sk-label-container {position: relative;z-index: 2;text-align: center;}div.sk-container {display: inline-block;position: relative;}</style><div class=\"sk-top-container\"><div class=\"sk-container\"><div class=\"sk-item\"><div class=\"sk-estimator sk-toggleable\"><input class=\"sk-toggleable__control sk-hidden--visually\" id=\"e682db6b-ff05-45cf-83aa-57b90a9b8592\" type=\"checkbox\" checked><label class=\"sk-toggleable__label\" for=\"e682db6b-ff05-45cf-83aa-57b90a9b8592\">RandomForestClassifier</label><div class=\"sk-toggleable__content\"><pre>RandomForestClassifier(criterion='entropy', max_features=0.4,\n",
       "                       min_samples_leaf=11, min_samples_split=5)</pre></div></div></div></div></div>"
      ],
      "text/plain": [
       "RandomForestClassifier(criterion='entropy', max_features=0.4,\n",
       "                       min_samples_leaf=11, min_samples_split=5)"
      ]
     },
     "execution_count": 7,
     "metadata": {},
     "output_type": "execute_result"
    }
   ],
   "source": [
    "model"
   ]
  },
  {
   "cell_type": "code",
   "execution_count": 8,
   "id": "2b1b5cc8",
   "metadata": {},
   "outputs": [],
   "source": [
    "results = model.predict(test_features)"
   ]
  },
  {
   "cell_type": "code",
   "execution_count": 9,
   "id": "e28af386",
   "metadata": {},
   "outputs": [
    {
     "data": {
      "text/plain": [
       "0.8331045751633986"
      ]
     },
     "execution_count": 9,
     "metadata": {},
     "output_type": "execute_result"
    }
   ],
   "source": [
    "model.score(test_features, testing_target)"
   ]
  },
  {
   "cell_type": "code",
   "execution_count": null,
   "id": "951caabd",
   "metadata": {},
   "outputs": [],
   "source": []
  },
  {
   "cell_type": "markdown",
   "id": "0ec8ee62",
   "metadata": {},
   "source": [
    "## Pipeline "
   ]
  },
  {
   "cell_type": "code",
   "execution_count": 10,
   "id": "82d23e23",
   "metadata": {},
   "outputs": [],
   "source": [
    "from sklearn.svm import SVC\n",
    "from sklearn.preprocessing import StandardScaler\n",
    "from sklearn.model_selection import train_test_split\n",
    "from sklearn.pipeline import Pipeline\n",
    "from sklearn.metrics import f1_score, make_scorer # utilizado para calcular a performance dos pipelines\n",
    "from sklearn.decomposition import PCA \n",
    "from sklearn import set_config # utilizado para mostrar os passos do pipeline de forma visual\n",
    "set_config(display='diagram') #\n",
    "from sklearn.ensemble import *\n",
    "from sklearn.metrics import f1_score, make_scorer\n",
    "from sklearn.metrics import accuracy_score\n"
   ]
  },
  {
   "cell_type": "markdown",
   "id": "326aa6f4",
   "metadata": {},
   "source": [
    "### Pipeline com StandardScaler e SVC \n",
    "\n",
    "Como essa base tem algumas colunas com valores distintos penso que um PCA\n",
    "pode ajudar a ter melhores features, dessa forma com os dados estaveis passo\n",
    "duas estruturas, o seguindo essa estrutura:\n",
    "\n",
    "* PCA\n",
    "* StandardScaler\n",
    "* SVM\n",
    "\n",
    "\n",
    "![](https://miro.medium.com/max/1200/0*2-EExC6mYeEMvtrw.gif)"
   ]
  },
  {
   "cell_type": "code",
   "execution_count": 11,
   "id": "05073c2a",
   "metadata": {},
   "outputs": [
    {
     "name": "stdout",
     "output_type": "stream",
     "text": [
      "Total treino pipe 01:  0:04:34.730412\n"
     ]
    }
   ],
   "source": [
    "inicio = dt.now()\n",
    "\n",
    "pipe = Pipeline([\n",
    "                 ('pca', PCA(n_components=3)),\n",
    "                 ('Scalar Step', StandardScaler()),\n",
    "                 ('Suporte Vector Machine Step ',SVC())\n",
    "                ]).fit(X_train, y_train)\n",
    "print(\"Total treino pipe 01: \",dt.now() - inicio)"
   ]
  },
  {
   "cell_type": "code",
   "execution_count": 12,
   "id": "f0fca2ef",
   "metadata": {},
   "outputs": [
    {
     "data": {
      "text/plain": [
       "'Resultados de y_pred: [0. 1. 0. ... 1. 0. 0.]'"
      ]
     },
     "metadata": {},
     "output_type": "display_data"
    },
    {
     "data": {
      "text/plain": [
       "'Passos do pipeline (para fins ilustrativos):'"
      ]
     },
     "metadata": {},
     "output_type": "display_data"
    },
    {
     "data": {
      "text/plain": [
       "array([0., 1., 0., ..., 1., 0., 0.])"
      ]
     },
     "execution_count": 12,
     "metadata": {},
     "output_type": "execute_result"
    }
   ],
   "source": [
    "y_pred_svc = pipe.predict(X_test)\n",
    "display(f'Resultados de y_pred: {y_pred_svc}')\n",
    "\n",
    "display(f'Passos do pipeline (para fins ilustrativos):')\n",
    "y_pred_svc\n"
   ]
  },
  {
   "cell_type": "markdown",
   "id": "2c6ed10f",
   "metadata": {},
   "source": [
    "### Pipeline com StandardScaler e SVC \n",
    "\n",
    "Como essa base tem algumas colunas com valores distintos penso que um PCA\n",
    "pode ajudar a ter melhores features, dessa forma com os dados estaveis passo\n",
    "duas estruturas, o seguindo essa estrutura:\n",
    "\n",
    "* PCA\n",
    "* RandomForestClassifier\n",
    "* SVM\n",
    "\n",
    "![](https://1.bp.blogspot.com/-Ax59WK4DE8w/YK6o9bt_9jI/AAAAAAAAEQA/9KbBf9cdL6kOFkJnU39aUn4m8ydThPenwCLcBGAsYHQ/s0/Random%2BForest%2B03.gif)"
   ]
  },
  {
   "cell_type": "code",
   "execution_count": null,
   "id": "c73f3ce2",
   "metadata": {},
   "outputs": [],
   "source": [
    "inicio = dt.now()\n",
    "\n",
    "pipe_pca = Pipeline([\n",
    "                     ('pca', PCA(n_components=3)),\n",
    "                     ('Suporte Vector Machine Step ', SVC())\n",
    "                    ]).fit(X_train, y_train)\n",
    "\n",
    "y_pred_pca = pipe_pca.predict(X_test)\n",
    "display(f'Resultados de y_pred: {y_pred_pca}')\n",
    "\n",
    "display(f'Passos do pipeline (para fins ilustrativos):')\n",
    "pipe_pca\n",
    "print(\"Total treino pipe_pca 02: \",dt.now() - inicio)"
   ]
  },
  {
   "cell_type": "markdown",
   "id": "c9cc76e3",
   "metadata": {},
   "source": [
    "## Metricas usadas \n",
    "\n",
    "#### PS: Vamos usar apenas f1_score e accuracy_score\n",
    "![](https://miro.medium.com/max/1400/1*UVP_xb4F6J-M-xH3haz5Jw.png)"
   ]
  },
  {
   "cell_type": "code",
   "execution_count": 15,
   "id": "8f6e1542",
   "metadata": {},
   "outputs": [
    {
     "name": "stdout",
     "output_type": "stream",
     "text": [
      "Primeiro pipeline : 0.6177920967847985\n",
      "Primeiro pipeline:  0.6200653594771242\n"
     ]
    }
   ],
   "source": [
    "print(\"Primeiro pipeline :\",f1_score(y_test, y_pred_svc))\n",
    "#print(\"Segundo pipeline :\",f1_score(y_test, y_pred_pca, average=None))\n",
    "print(\"Primeiro pipeline: \",accuracy_score(y_test, y_pred_svc))\n",
    "#print(\"Segundo pipeline: \",accuracy_score(y_test, y_pred_pca))"
   ]
  },
  {
   "cell_type": "markdown",
   "id": "c8126684",
   "metadata": {},
   "source": [
    "## Analise de Resultados \n",
    "F-score\n",
    "F–measure, F-score ou score F1 é uma média harmônica calculada com base na precisão e na revocação. Ela pode ser obtida com base na equação:\n",
    "\n",
    "\n",
    "Tabela de Metricas \n",
    "\n",
    "| Metrica  | Valor | Pipeline | Tempo de Treino |   |\n",
    "|----------|-------|----------|-----------------|---|\n",
    "| F1_Score | 0.61  | pipe      | 0:04:34.730412  |   |\n",
    "| Acc | 0.62  | pipe   | 2               |   |\n",
    "|    Acc      |       |          |                 |   |\n"
   ]
  },
  {
   "cell_type": "code",
   "execution_count": null,
   "id": "3637559e",
   "metadata": {},
   "outputs": [],
   "source": []
  }
 ],
 "metadata": {
  "kernelspec": {
   "display_name": "Python 3",
   "language": "python",
   "name": "python3"
  },
  "language_info": {
   "codemirror_mode": {
    "name": "ipython",
    "version": 3
   },
   "file_extension": ".py",
   "mimetype": "text/x-python",
   "name": "python",
   "nbconvert_exporter": "python",
   "pygments_lexer": "ipython3",
   "version": "3.8.5"
  }
 },
 "nbformat": 4,
 "nbformat_minor": 5
}
