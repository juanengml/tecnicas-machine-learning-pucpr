{
 "cells": [
  {
   "cell_type": "code",
   "execution_count": null,
   "id": "3708ef60",
   "metadata": {},
   "outputs": [],
   "source": []
  },
  {
   "cell_type": "code",
   "execution_count": null,
   "id": "69495c7c",
   "metadata": {},
   "outputs": [],
   "source": [
    "pywhatkit.sendwhatmsg('+5541992149181', 'Test MSg WPP ', 6, 6)"
   ]
  },
  {
   "cell_type": "code",
   "execution_count": null,
   "id": "8acf4fac",
   "metadata": {
    "scrolled": true
   },
   "outputs": [],
   "source": [
    "!pip install pywhatkit"
   ]
  },
  {
   "cell_type": "code",
   "execution_count": null,
   "id": "6fa0413d",
   "metadata": {},
   "outputs": [],
   "source": [
    "from twilio.rest import Client\n",
    "\n",
    "# client credentials are read from TWILIO_ACCOUNT_SID and AUTH_TOKEN\n",
    "client = Client()\n",
    "\n",
    "# this is the Twilio sandbox testing number\n",
    "from_whatsapp_number='whatsapp:+14155238886'\n",
    "# replace this number with your own WhatsApp Messaging number\n",
    "to_whatsapp_number='whatsapp:+15005550006'\n",
    "\n",
    "client.messages.create(body='Ahoy, world!',\n",
    "                       from_=from_whatsapp_number,\n",
    "                       to=to_whatsapp_number)"
   ]
  }
 ],
 "metadata": {
  "kernelspec": {
   "display_name": "Python 3",
   "language": "python",
   "name": "python3"
  },
  "language_info": {
   "codemirror_mode": {
    "name": "ipython",
    "version": 3
   },
   "file_extension": ".py",
   "mimetype": "text/x-python",
   "name": "python",
   "nbconvert_exporter": "python",
   "pygments_lexer": "ipython3",
   "version": "3.8.5"
  }
 },
 "nbformat": 4,
 "nbformat_minor": 5
}
