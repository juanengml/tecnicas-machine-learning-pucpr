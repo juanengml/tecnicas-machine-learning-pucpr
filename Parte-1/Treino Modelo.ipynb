{
 "cells": [
  {
   "cell_type": "markdown",
   "id": "9c0904d8",
   "metadata": {},
   "source": [
    "# Treinamento do Modelo"
   ]
  },
  {
   "cell_type": "code",
   "execution_count": 45,
   "id": "0d285a71",
   "metadata": {},
   "outputs": [],
   "source": [
    "# importando libs para uso \n",
    "import numpy as np\n",
    "import pandas as pd\n",
    "from sklearn.ensemble import RandomForestClassifier as FlorestaRandomica\n",
    "from sklearn.model_selection import train_test_split\n",
    "import pickle"
   ]
  },
  {
   "cell_type": "markdown",
   "id": "98726ae9",
   "metadata": {},
   "source": [
    "#### Lendo dataset ja tratado "
   ]
  },
  {
   "cell_type": "code",
   "execution_count": 34,
   "id": "74e9a8af",
   "metadata": {},
   "outputs": [],
   "source": [
    "df = pd.read_csv('treino_08_31_00_31-10-2021.csv', dtype=np.float64)"
   ]
  },
  {
   "cell_type": "markdown",
   "id": "145c46f1",
   "metadata": {},
   "source": [
    "####  Pegando Features para o train_test_split"
   ]
  },
  {
   "cell_type": "code",
   "execution_count": 35,
   "id": "adb47a5c",
   "metadata": {},
   "outputs": [],
   "source": [
    "features = df.drop('round_winner', axis=1)\n"
   ]
  },
  {
   "cell_type": "code",
   "execution_count": 36,
   "id": "076ded7e",
   "metadata": {},
   "outputs": [],
   "source": [
    "train_feature, test_features, train_target, testing_target = \\\n",
    "            train_test_split(features, df['round_winner'], random_state=None)"
   ]
  },
  {
   "cell_type": "markdown",
   "id": "349e0420",
   "metadata": {},
   "source": [
    "Criando Instancia do Modelo de Floresta Randomica"
   ]
  },
  {
   "cell_type": "code",
   "execution_count": 43,
   "id": "7b47dff9",
   "metadata": {},
   "outputs": [],
   "source": [
    "model = FlorestaRandomica(bootstrap=True, \n",
    "                          criterion=\"entropy\", \n",
    "                          max_features=0.4, \n",
    "                          min_samples_leaf=11,\n",
    "                          min_samples_split=5, \n",
    "                          n_estimators=100)"
   ]
  },
  {
   "cell_type": "code",
   "execution_count": 44,
   "id": "605f085d",
   "metadata": {},
   "outputs": [
    {
     "data": {
      "text/plain": [
       "RandomForestClassifier(criterion='entropy', max_features=0.4,\n",
       "                       min_samples_leaf=11, min_samples_split=5)"
      ]
     },
     "execution_count": 44,
     "metadata": {},
     "output_type": "execute_result"
    }
   ],
   "source": [
    "model.fit(train_feature, train_target)"
   ]
  },
  {
   "cell_type": "markdown",
   "id": "9bbb838b",
   "metadata": {},
   "source": [
    "### Salvando Modelo...."
   ]
  },
  {
   "cell_type": "code",
   "execution_count": 46,
   "id": "7c5516c1",
   "metadata": {},
   "outputs": [],
   "source": [
    "filename = 'finalized_model.sav'\n",
    "pickle.dump(model, open(filename, 'wb'))"
   ]
  },
  {
   "cell_type": "code",
   "execution_count": 49,
   "id": "67974493",
   "metadata": {},
   "outputs": [
    {
     "name": "stdout",
     "output_type": "stream",
     "text": [
      " O volume na unidade C é OS\n",
      " O Número de Série do Volume é EA4C-8C04\n",
      "\n",
      " Pasta de C:\\Users\\2104944461\\Downloads\\tecnicas-machine-learning-pucpr\n",
      "\n",
      "10/31/2021  09:59 PM    <DIR>          .\n",
      "10/31/2021  09:59 PM    <DIR>          ..\n",
      "10/31/2021  08:32 PM    <DIR>          .ipynb_checkpoints\n",
      "10/31/2021  06:31 PM        25,989,506 csgo_round_snapshots.csv\n",
      "10/31/2021  08:47 PM         4,803,125 EDA.ipynb\n",
      "10/31/2021  09:58 PM        42,404,566 finalized_model.sav\n",
      "10/31/2021  06:38 PM                72 README.md\n",
      "10/31/2021  07:19 PM         3,610,583 SWEETVIZ_REPORT.html\n",
      "10/31/2021  09:59 PM             4,014 Treino Modelo.ipynb\n",
      "10/31/2021  08:32 PM        24,983,886 treino_08_31_00_31-10-2021.csv\n",
      "10/31/2021  06:47 PM    <DIR>          venv\n",
      "               7 arquivo(s)    101,795,752 bytes\n",
      "               4 pasta(s)   37,607,743,488 bytes disponíveis\n"
     ]
    }
   ],
   "source": [
    "!dir"
   ]
  },
  {
   "cell_type": "code",
   "execution_count": 39,
   "id": "8b9b7be0",
   "metadata": {},
   "outputs": [],
   "source": [
    "#results = model.predict(test_features)"
   ]
  },
  {
   "cell_type": "code",
   "execution_count": 47,
   "id": "2907628f",
   "metadata": {},
   "outputs": [],
   "source": [
    "#results"
   ]
  },
  {
   "cell_type": "code",
   "execution_count": null,
   "id": "8f3a34d5",
   "metadata": {},
   "outputs": [],
   "source": []
  }
 ],
 "metadata": {
  "kernelspec": {
   "display_name": "Python 3",
   "language": "python",
   "name": "python3"
  },
  "language_info": {
   "codemirror_mode": {
    "name": "ipython",
    "version": 3
   },
   "file_extension": ".py",
   "mimetype": "text/x-python",
   "name": "python",
   "nbconvert_exporter": "python",
   "pygments_lexer": "ipython3",
   "version": "3.8.5"
  }
 },
 "nbformat": 4,
 "nbformat_minor": 5
}
