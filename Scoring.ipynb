{
 "cells": [
  {
   "cell_type": "markdown",
   "id": "533ecd30",
   "metadata": {},
   "source": [
    "# Scoring Model"
   ]
  },
  {
   "cell_type": "code",
   "execution_count": 19,
   "id": "b721a96c",
   "metadata": {},
   "outputs": [],
   "source": [
    "import pickle \n",
    "from sklearn.model_selection import train_test_split\n",
    "import pandas as pd\n",
    "import numpy as np "
   ]
  },
  {
   "cell_type": "code",
   "execution_count": 13,
   "id": "b8c0429c",
   "metadata": {},
   "outputs": [
    {
     "name": "stdout",
     "output_type": "stream",
     "text": [
      " O volume na unidade C é OS\n",
      " O Número de Série do Volume é EA4C-8C04\n",
      "\n",
      " Pasta de C:\\Users\\2104944461\\Downloads\\tecnicas-machine-learning-pucpr\n",
      "\n",
      "10/31/2021  10:01 PM    <DIR>          .\n",
      "10/31/2021  10:01 PM    <DIR>          ..\n",
      "10/31/2021  09:59 PM    <DIR>          .ipynb_checkpoints\n",
      "10/31/2021  06:31 PM        25,989,506 csgo_round_snapshots.csv\n",
      "10/31/2021  08:47 PM         4,803,125 EDA.ipynb\n",
      "10/31/2021  09:58 PM        42,404,566 finalized_model.sav\n",
      "10/31/2021  06:38 PM                72 README.md\n",
      "10/31/2021  10:01 PM             2,552 Scoring.ipynb\n",
      "10/31/2021  07:19 PM         3,610,583 SWEETVIZ_REPORT.html\n",
      "10/31/2021  09:59 PM             5,160 Treino Modelo.ipynb\n",
      "10/31/2021  08:32 PM        24,983,886 treino_08_31_00_31-10-2021.csv\n",
      "10/31/2021  06:47 PM    <DIR>          venv\n",
      "               8 arquivo(s)    101,799,450 bytes\n",
      "               4 pasta(s)   37,617,737,728 bytes disponíveis\n"
     ]
    }
   ],
   "source": [
    "!dir"
   ]
  },
  {
   "cell_type": "markdown",
   "id": "9e386710",
   "metadata": {},
   "source": [
    "### load the model from disk"
   ]
  },
  {
   "cell_type": "code",
   "execution_count": 14,
   "id": "b19a8400",
   "metadata": {},
   "outputs": [],
   "source": [
    "loaded_model = pickle.load(open(\"finalized_model.sav\", 'rb'))"
   ]
  },
  {
   "cell_type": "markdown",
   "id": "6a923eff",
   "metadata": {},
   "source": [
    "### Carregando Base\n"
   ]
  },
  {
   "cell_type": "code",
   "execution_count": 17,
   "id": "160dd032",
   "metadata": {},
   "outputs": [],
   "source": [
    "df = pd.read_csv('treino_08_31_00_31-10-2021.csv', dtype=np.float64)"
   ]
  },
  {
   "cell_type": "code",
   "execution_count": 21,
   "id": "4906651f",
   "metadata": {},
   "outputs": [],
   "source": [
    "features = df.drop('round_winner', axis=1)\n",
    "\n",
    "train_feature, test_features, train_target, testing_target = \\\n",
    "            train_test_split(features, df['round_winner'], random_state=None)"
   ]
  },
  {
   "cell_type": "markdown",
   "id": "338fd9c6",
   "metadata": {},
   "source": [
    "### Scoring...."
   ]
  },
  {
   "cell_type": "code",
   "execution_count": 22,
   "id": "55e98e01",
   "metadata": {},
   "outputs": [],
   "source": [
    "result = loaded_model.score(test_features, testing_target)\n"
   ]
  },
  {
   "cell_type": "code",
   "execution_count": 23,
   "id": "2e311f85",
   "metadata": {},
   "outputs": [
    {
     "data": {
      "text/plain": [
       "0.8997712418300654"
      ]
     },
     "execution_count": 23,
     "metadata": {},
     "output_type": "execute_result"
    }
   ],
   "source": [
    "result"
   ]
  },
  {
   "cell_type": "code",
   "execution_count": null,
   "id": "1eb63e38",
   "metadata": {},
   "outputs": [],
   "source": []
  }
 ],
 "metadata": {
  "kernelspec": {
   "display_name": "Python 3",
   "language": "python",
   "name": "python3"
  },
  "language_info": {
   "codemirror_mode": {
    "name": "ipython",
    "version": 3
   },
   "file_extension": ".py",
   "mimetype": "text/x-python",
   "name": "python",
   "nbconvert_exporter": "python",
   "pygments_lexer": "ipython3",
   "version": "3.8.5"
  }
 },
 "nbformat": 4,
 "nbformat_minor": 5
}
