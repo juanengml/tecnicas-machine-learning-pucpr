{
 "cells": [
  {
   "cell_type": "markdown",
   "metadata": {},
   "source": [
    "# Pontifícia Universidade Católica do Paraná\n",
    "## Disciplina: Técnicas de Machine Learning\n",
    "#### Conteúdo complementar da Semana 7 - Pipelines e Otimização de Hiperparâmetros"
   ]
  },
  {
   "cell_type": "markdown",
   "metadata": {},
   "source": [
    "A ideia deste notebook é a de mostrar o uso de pipelines e da otimização de hiperparâmetros para termos modelos que com um fluxo completo de transformação de dados (no caso dos pipelines) e que tenham a melhor performance possível (no caso da otimização dos hiperparâmetros). Aqui, entenda que *hiperparâmetros* são aqueles parâmetros que ficam dentro dos modelos de aprendizagem supervisionada como, por exemplo, o ```n_neighbors``` no KNN e ```n_estimators``` do random forest.\n",
    "\n",
    "Da mesma forma que comentamos nos notebooks anteriores aproveite este notebook para entender as funções e, quando tiver alguma dúvida sobre o significado de algum novo parâmetro, procurar na documentação oficial das bibliotecas para entender melhor quais são as possibilidades. Exemplo: <em>\"o que significa o</em> ```sep``` <em>no pd.read.csv?\"</em>"
   ]
  },
  {
   "cell_type": "code",
   "execution_count": 1,
   "metadata": {},
   "outputs": [],
   "source": [
    "import pandas as pd # importando o pandas para manipularmos os datasets\n",
    "\n",
    "from sklearn.model_selection import train_test_split, RandomizedSearchCV, GridSearchCV # utilizado para o split entre treinamento e teste e para a otimização de hiperparâmetros\n",
    "from sklearn.ensemble import * # importando vários ensembles para que possamos testá-los posteriormente\n",
    "from sklearn.pipeline import Pipeline # utilizado para criar pipelines\n",
    "from sklearn.neighbors import KNeighborsClassifier # utilizado para treinar o KNN\n",
    "from sklearn.linear_model import LogisticRegression # utilizado para treinar um modelo de classificação (regressão logística - apesar do nome é para problemas de classificação)\n",
    "from sklearn.preprocessing import OrdinalEncoder, OneHotEncoder, RobustScaler # utilizado para converter colunas do tipo texto para numéricas\n",
    "from sklearn.decomposition import PCA # utilizado para fazer o PCA nos pipelines\n",
    "from sklearn.metrics import f1_score, make_scorer # utilizado para calcular a performance dos pipelines\n",
    "\n",
    "from lightgbm import LGBMClassifier # utilizado para treinar o LightGBM\n",
    "\n",
    "from sklearn import set_config # utilizado para mostrar os passos do pipeline de forma visual\n",
    "set_config(display='diagram') # forçando para que os passos do pipeline sejam mostrados em visual"
   ]
  },
  {
   "cell_type": "markdown",
   "metadata": {},
   "source": [
    "Utilizaremos o <a href=\"http://archive.ics.uci.edu/ml/datasets/Adult\">adult dataset</a>. Ele contém os dados do censo populacional feito nos EUA em 1994. Traduzimos os nomes dos atributos para um melhor entendimento. O significado deles é:\n",
    "\n",
    "- *idade*: a idade da pessoa.\n",
    "- *classetrabalhadora*: a classe trabalhadora na qual aquela pessoa está inserida. Exemplos incluem: funcionário público municipal/estadual/federal; nunca trabalhou; funcionário autônomo; setor privado; sem renda.\n",
    "- *totalpessoasestimadas*: a quantidade de habitantes no qual acredita-se que esta pessoa representa. Lembre-se que o censo pode ser de uma **amostra** de pessoas. Como é uma amostra vale saber quantas pessoas ao todo uma determinada instância representaria.\n",
    "- *escolaridade*: o nível de escolaridade da pessoa.\n",
    "- *escolaridadenum*: o mesmo nível, mas convertido para uma escala numérica (similar ao uso do LabelEncoder).\n",
    "- *estadocivil*: o estado civil da pessoa. Exemplos incluem: casado, solteiro, divorciado, viúvo.\n",
    "- *cargo*: o cargo da pessoa. Exemplos incluem: suporte técnico, vendas, gerencial, forças armadas, limpeza, transportes.\n",
    "- *relacionamento*: o papel da pessoa na família. Exemplos incluem: esposa, esposo, não-casado, filho(a), não está em família.\n",
    "- *raca*: a raça da pessoa.\n",
    "- *sexo*: o sexo da pessoa.\n",
    "- *ganhocapital* e *perdacapital*: ganhos e perdas de capital da pessoa.\n",
    "- *horasporsemana*: horas trabalhadas por semana.\n",
    "- *pais*: país de origem.\n",
    "- *rendaacima50k*: é a nossa **classe**. Queremos prever se uma pessoa ganha abaixo ou acima de 50K dólares. Os valores incluem \"<=50K\" e \">50K\".\n",
    "\n",
    "Observe que vários dados não estão em uma escala numérica. Se tentarmos rodar um ```RandomForestClassifier``` ou qualquer outro modelo teremos um erro. Logo, precisaremos primeiro tratar estas colunas antes de criar um algoritmo de aprendizagem supervisionada."
   ]
  },
  {
   "cell_type": "code",
   "execution_count": 2,
   "metadata": {},
   "outputs": [
    {
     "data": {
      "text/html": [
       "<div>\n",
       "<style scoped>\n",
       "    .dataframe tbody tr th:only-of-type {\n",
       "        vertical-align: middle;\n",
       "    }\n",
       "\n",
       "    .dataframe tbody tr th {\n",
       "        vertical-align: top;\n",
       "    }\n",
       "\n",
       "    .dataframe thead th {\n",
       "        text-align: right;\n",
       "    }\n",
       "</style>\n",
       "<table border=\"1\" class=\"dataframe\">\n",
       "  <thead>\n",
       "    <tr style=\"text-align: right;\">\n",
       "      <th></th>\n",
       "      <th>idade</th>\n",
       "      <th>classetrabalhadora</th>\n",
       "      <th>totalpessoasestimadas</th>\n",
       "      <th>escolaridade</th>\n",
       "      <th>escolaridadenum</th>\n",
       "      <th>estadocivil</th>\n",
       "      <th>cargo</th>\n",
       "      <th>relacionamento</th>\n",
       "      <th>raca</th>\n",
       "      <th>sexo</th>\n",
       "      <th>ganhoscapital</th>\n",
       "      <th>perdascapital</th>\n",
       "      <th>horastrabalhadasporsemana</th>\n",
       "      <th>pais</th>\n",
       "      <th>renda</th>\n",
       "    </tr>\n",
       "  </thead>\n",
       "  <tbody>\n",
       "    <tr>\n",
       "      <th>0</th>\n",
       "      <td>39</td>\n",
       "      <td>State-gov</td>\n",
       "      <td>77516</td>\n",
       "      <td>Bachelors</td>\n",
       "      <td>13</td>\n",
       "      <td>Never-married</td>\n",
       "      <td>Adm-clerical</td>\n",
       "      <td>Not-in-family</td>\n",
       "      <td>White</td>\n",
       "      <td>Male</td>\n",
       "      <td>2174</td>\n",
       "      <td>0</td>\n",
       "      <td>40</td>\n",
       "      <td>United-States</td>\n",
       "      <td>&lt;=50K</td>\n",
       "    </tr>\n",
       "    <tr>\n",
       "      <th>1</th>\n",
       "      <td>50</td>\n",
       "      <td>Self-emp-not-inc</td>\n",
       "      <td>83311</td>\n",
       "      <td>Bachelors</td>\n",
       "      <td>13</td>\n",
       "      <td>Married-civ-spouse</td>\n",
       "      <td>Exec-managerial</td>\n",
       "      <td>Husband</td>\n",
       "      <td>White</td>\n",
       "      <td>Male</td>\n",
       "      <td>0</td>\n",
       "      <td>0</td>\n",
       "      <td>13</td>\n",
       "      <td>United-States</td>\n",
       "      <td>&lt;=50K</td>\n",
       "    </tr>\n",
       "    <tr>\n",
       "      <th>2</th>\n",
       "      <td>38</td>\n",
       "      <td>Private</td>\n",
       "      <td>215646</td>\n",
       "      <td>HS-grad</td>\n",
       "      <td>9</td>\n",
       "      <td>Divorced</td>\n",
       "      <td>Handlers-cleaners</td>\n",
       "      <td>Not-in-family</td>\n",
       "      <td>White</td>\n",
       "      <td>Male</td>\n",
       "      <td>0</td>\n",
       "      <td>0</td>\n",
       "      <td>40</td>\n",
       "      <td>United-States</td>\n",
       "      <td>&lt;=50K</td>\n",
       "    </tr>\n",
       "    <tr>\n",
       "      <th>3</th>\n",
       "      <td>53</td>\n",
       "      <td>Private</td>\n",
       "      <td>234721</td>\n",
       "      <td>11th</td>\n",
       "      <td>7</td>\n",
       "      <td>Married-civ-spouse</td>\n",
       "      <td>Handlers-cleaners</td>\n",
       "      <td>Husband</td>\n",
       "      <td>Black</td>\n",
       "      <td>Male</td>\n",
       "      <td>0</td>\n",
       "      <td>0</td>\n",
       "      <td>40</td>\n",
       "      <td>United-States</td>\n",
       "      <td>&lt;=50K</td>\n",
       "    </tr>\n",
       "    <tr>\n",
       "      <th>4</th>\n",
       "      <td>28</td>\n",
       "      <td>Private</td>\n",
       "      <td>338409</td>\n",
       "      <td>Bachelors</td>\n",
       "      <td>13</td>\n",
       "      <td>Married-civ-spouse</td>\n",
       "      <td>Prof-specialty</td>\n",
       "      <td>Wife</td>\n",
       "      <td>Black</td>\n",
       "      <td>Female</td>\n",
       "      <td>0</td>\n",
       "      <td>0</td>\n",
       "      <td>40</td>\n",
       "      <td>Cuba</td>\n",
       "      <td>&lt;=50K</td>\n",
       "    </tr>\n",
       "    <tr>\n",
       "      <th>...</th>\n",
       "      <td>...</td>\n",
       "      <td>...</td>\n",
       "      <td>...</td>\n",
       "      <td>...</td>\n",
       "      <td>...</td>\n",
       "      <td>...</td>\n",
       "      <td>...</td>\n",
       "      <td>...</td>\n",
       "      <td>...</td>\n",
       "      <td>...</td>\n",
       "      <td>...</td>\n",
       "      <td>...</td>\n",
       "      <td>...</td>\n",
       "      <td>...</td>\n",
       "      <td>...</td>\n",
       "    </tr>\n",
       "    <tr>\n",
       "      <th>32556</th>\n",
       "      <td>27</td>\n",
       "      <td>Private</td>\n",
       "      <td>257302</td>\n",
       "      <td>Assoc-acdm</td>\n",
       "      <td>12</td>\n",
       "      <td>Married-civ-spouse</td>\n",
       "      <td>Tech-support</td>\n",
       "      <td>Wife</td>\n",
       "      <td>White</td>\n",
       "      <td>Female</td>\n",
       "      <td>0</td>\n",
       "      <td>0</td>\n",
       "      <td>38</td>\n",
       "      <td>United-States</td>\n",
       "      <td>&lt;=50K</td>\n",
       "    </tr>\n",
       "    <tr>\n",
       "      <th>32557</th>\n",
       "      <td>40</td>\n",
       "      <td>Private</td>\n",
       "      <td>154374</td>\n",
       "      <td>HS-grad</td>\n",
       "      <td>9</td>\n",
       "      <td>Married-civ-spouse</td>\n",
       "      <td>Machine-op-inspct</td>\n",
       "      <td>Husband</td>\n",
       "      <td>White</td>\n",
       "      <td>Male</td>\n",
       "      <td>0</td>\n",
       "      <td>0</td>\n",
       "      <td>40</td>\n",
       "      <td>United-States</td>\n",
       "      <td>&gt;50K</td>\n",
       "    </tr>\n",
       "    <tr>\n",
       "      <th>32558</th>\n",
       "      <td>58</td>\n",
       "      <td>Private</td>\n",
       "      <td>151910</td>\n",
       "      <td>HS-grad</td>\n",
       "      <td>9</td>\n",
       "      <td>Widowed</td>\n",
       "      <td>Adm-clerical</td>\n",
       "      <td>Unmarried</td>\n",
       "      <td>White</td>\n",
       "      <td>Female</td>\n",
       "      <td>0</td>\n",
       "      <td>0</td>\n",
       "      <td>40</td>\n",
       "      <td>United-States</td>\n",
       "      <td>&lt;=50K</td>\n",
       "    </tr>\n",
       "    <tr>\n",
       "      <th>32559</th>\n",
       "      <td>22</td>\n",
       "      <td>Private</td>\n",
       "      <td>201490</td>\n",
       "      <td>HS-grad</td>\n",
       "      <td>9</td>\n",
       "      <td>Never-married</td>\n",
       "      <td>Adm-clerical</td>\n",
       "      <td>Own-child</td>\n",
       "      <td>White</td>\n",
       "      <td>Male</td>\n",
       "      <td>0</td>\n",
       "      <td>0</td>\n",
       "      <td>20</td>\n",
       "      <td>United-States</td>\n",
       "      <td>&lt;=50K</td>\n",
       "    </tr>\n",
       "    <tr>\n",
       "      <th>32560</th>\n",
       "      <td>52</td>\n",
       "      <td>Self-emp-inc</td>\n",
       "      <td>287927</td>\n",
       "      <td>HS-grad</td>\n",
       "      <td>9</td>\n",
       "      <td>Married-civ-spouse</td>\n",
       "      <td>Exec-managerial</td>\n",
       "      <td>Wife</td>\n",
       "      <td>White</td>\n",
       "      <td>Female</td>\n",
       "      <td>15024</td>\n",
       "      <td>0</td>\n",
       "      <td>40</td>\n",
       "      <td>United-States</td>\n",
       "      <td>&gt;50K</td>\n",
       "    </tr>\n",
       "  </tbody>\n",
       "</table>\n",
       "<p>32561 rows × 15 columns</p>\n",
       "</div>"
      ],
      "text/plain": [
       "       idade classetrabalhadora  totalpessoasestimadas escolaridade  \\\n",
       "0         39          State-gov                  77516    Bachelors   \n",
       "1         50   Self-emp-not-inc                  83311    Bachelors   \n",
       "2         38            Private                 215646      HS-grad   \n",
       "3         53            Private                 234721         11th   \n",
       "4         28            Private                 338409    Bachelors   \n",
       "...      ...                ...                    ...          ...   \n",
       "32556     27            Private                 257302   Assoc-acdm   \n",
       "32557     40            Private                 154374      HS-grad   \n",
       "32558     58            Private                 151910      HS-grad   \n",
       "32559     22            Private                 201490      HS-grad   \n",
       "32560     52       Self-emp-inc                 287927      HS-grad   \n",
       "\n",
       "       escolaridadenum          estadocivil               cargo  \\\n",
       "0                   13        Never-married        Adm-clerical   \n",
       "1                   13   Married-civ-spouse     Exec-managerial   \n",
       "2                    9             Divorced   Handlers-cleaners   \n",
       "3                    7   Married-civ-spouse   Handlers-cleaners   \n",
       "4                   13   Married-civ-spouse      Prof-specialty   \n",
       "...                ...                  ...                 ...   \n",
       "32556               12   Married-civ-spouse        Tech-support   \n",
       "32557                9   Married-civ-spouse   Machine-op-inspct   \n",
       "32558                9              Widowed        Adm-clerical   \n",
       "32559                9        Never-married        Adm-clerical   \n",
       "32560                9   Married-civ-spouse     Exec-managerial   \n",
       "\n",
       "       relacionamento    raca     sexo  ganhoscapital  perdascapital  \\\n",
       "0       Not-in-family   White     Male           2174              0   \n",
       "1             Husband   White     Male              0              0   \n",
       "2       Not-in-family   White     Male              0              0   \n",
       "3             Husband   Black     Male              0              0   \n",
       "4                Wife   Black   Female              0              0   \n",
       "...               ...     ...      ...            ...            ...   \n",
       "32556            Wife   White   Female              0              0   \n",
       "32557         Husband   White     Male              0              0   \n",
       "32558       Unmarried   White   Female              0              0   \n",
       "32559       Own-child   White     Male              0              0   \n",
       "32560            Wife   White   Female          15024              0   \n",
       "\n",
       "       horastrabalhadasporsemana            pais   renda  \n",
       "0                             40   United-States   <=50K  \n",
       "1                             13   United-States   <=50K  \n",
       "2                             40   United-States   <=50K  \n",
       "3                             40   United-States   <=50K  \n",
       "4                             40            Cuba   <=50K  \n",
       "...                          ...             ...     ...  \n",
       "32556                         38   United-States   <=50K  \n",
       "32557                         40   United-States    >50K  \n",
       "32558                         40   United-States   <=50K  \n",
       "32559                         20   United-States   <=50K  \n",
       "32560                         40   United-States    >50K  \n",
       "\n",
       "[32561 rows x 15 columns]"
      ]
     },
     "execution_count": 2,
     "metadata": {},
     "output_type": "execute_result"
    }
   ],
   "source": [
    "df_adult = pd.read_csv('http://archive.ics.uci.edu/ml/machine-learning-databases/adult/adult.data',\n",
    "                       names=['idade', 'classetrabalhadora', 'totalpessoasestimadas', 'escolaridade',\n",
    "                              'escolaridadenum', 'estadocivil', 'cargo', 'relacionamento', 'raca', \n",
    "                              'sexo', 'ganhoscapital', 'perdascapital', 'horastrabalhadasporsemana',\n",
    "                              'pais', 'renda'],\n",
    "                          index_col=False)\n",
    "\n",
    "df_adult"
   ]
  },
  {
   "cell_type": "code",
   "execution_count": 3,
   "metadata": {},
   "outputs": [],
   "source": [
    "# criando uma cópia do dataset para fins de teste\n",
    "df_adult_copy = df_adult.copy()\n",
    "\n",
    "# removendo o \"escolaridade\" já que temos o \"escolaridadenum\"\n",
    "df_adult_copy = df_adult_copy.drop('escolaridade', axis=1)\n",
    "\n",
    "# split entre treinamento e teste\n",
    "X_train, X_test, y_train, y_test = train_test_split(df_adult_copy.drop('renda', axis=1), # aqui informamos os atributos\n",
    "                                                    df_adult_copy['renda'], # aqui informamos as labels e na mesma ordem dos atributos\n",
    "                                                    test_size=0.20, # informamos a porcentagem de divisão da base. Geralmente é algo entre 20% (0.20) a 35% (0.35)\n",
    "                                                    random_state=0) # aqui informamos um \"seed\". É um valor aleatório e usado para que alguns algoritmos iniciem de forma aleatória a sua divisão."
   ]
  },
  {
   "cell_type": "code",
   "execution_count": 4,
   "metadata": {},
   "outputs": [],
   "source": [
    "# convertendo todas as colunas que são do tipo texto\n",
    "# o handle_unknown é usado porque podem existir valores que só existem no X_test e não no X_train\n",
    "# e queremos que a conversão não retorne em um erro caso isto aconteça\n",
    "encoder_df = OrdinalEncoder(handle_unknown='use_encoded_value', unknown_value=-1).fit(X_train)\n",
    "\n",
    "# convertendo X_train e X_test para valores numéricos.\n",
    "# não usamos o fit_transform porque precisaremos dos encoders novamente para X_test e y_test\n",
    "X_train = encoder_df.transform(X_train)"
   ]
  },
  {
   "cell_type": "code",
   "execution_count": 5,
   "metadata": {},
   "outputs": [],
   "source": [
    "# agora, treinamos um algoritmo - usaremos o KNN como teste\n",
    "clf = KNeighborsClassifier().fit(X_train, y_train)"
   ]
  },
  {
   "cell_type": "code",
   "execution_count": 6,
   "metadata": {},
   "outputs": [
    {
     "data": {
      "text/plain": [
       "\"Resultados de y_pred: [' <=50K' ' <=50K' ' <=50K' ... ' >50K' ' <=50K' ' >50K']\""
      ]
     },
     "metadata": {},
     "output_type": "display_data"
    }
   ],
   "source": [
    "# prevendo os resultados para o X_test\n",
    "# note que precisaremos chamar os encoders novamente já que treinamos o X_train e y_train contendo somente números\n",
    "X_test = encoder_df.transform(X_test)\n",
    "y_pred = clf.predict(X_test)\n",
    "display(f'Resultados de y_pred: {y_pred}')"
   ]
  },
  {
   "cell_type": "markdown",
   "metadata": {},
   "source": [
    "# Pipelines\n",
    "\n",
    "Percebeu a quantidade de passos necessários para treinar e chegar aos resultados finais? Vamos usar agora o pipeline para fazer a **mesma** coisa. Primeiramente, vamos recriar o X_train/X_test/y_train/y_test porque no passo anterior havíamos os convertido para uma escala numérica."
   ]
  },
  {
   "cell_type": "code",
   "execution_count": 7,
   "metadata": {},
   "outputs": [],
   "source": [
    "# criando uma cópia do dataset para fins de teste\n",
    "df_adult_copy = df_adult.copy()\n",
    "\n",
    "# removendo o \"escolaridade\" já que temos o \"escolaridadenum\"\n",
    "df_adult_copy = df_adult_copy.drop('escolaridade', axis=1)\n",
    "\n",
    "# split entre treinamento e teste\n",
    "X_train, X_test, y_train, y_test = train_test_split(df_adult_copy.drop('renda', axis=1), # aqui informamos os atributos\n",
    "                                                    df_adult_copy['renda'], # aqui informamos as labels e na mesma ordem dos atributos\n",
    "                                                    test_size=0.20, # informamos a porcentagem de divisão da base. Geralmente é algo entre 20% (0.20) a 35% (0.35)\n",
    "                                                    random_state=0) # aqui informamos um \"seed\". É um valor aleatório e usado para que alguns algoritmos iniciem de forma aleatória a sua divisão."
   ]
  },
  {
   "cell_type": "markdown",
   "metadata": {},
   "source": [
    "Agora sim, vamos para o pipeline: compare com o código anterior. Note que o encoder e o KNN ficam encapsulados dentro de um único pipeline. Fazemos **só um** ```fit``` e só um ```predict```.\n",
    "\n",
    "Observe que o pipeline sempre segue a mesma forma:\n",
    "1. Estabelecemos dentro do ```Pipeline``` uma lista de passos.\n",
    "2. Dentro dessa lista colocamos a **ordem** de execução: no nosso exemplo, primeiro precisamos fazer a conversão dos dados em texto para número. Só depois disso que treinaremos o KNN.\n",
    "3. Dentro da lista adicionamos uma **tupla** (este conjunto de itens entre parênteses): uma tupla é um conjunto de um ou mais itens. Aqui, o primeiro item é sempre um nome qualquer que atribuímos a um passo e o segundo item é sempre a classe que queremos utilizar, como o ```OrdinalEncoder``` e o ```KNeighborsClassifier```.\n",
    "4. Neste pipeline, temos **dois** passos: o primeiro passo se chama *encoder* e utiliza o ```OrdinalEncoder```. O segundo passo se chama *modelo* e chama o ```KNeighborsClassifier```. Depois de definir os passos treinamos o pipeline por inteiro utilizando o ```fit```."
   ]
  },
  {
   "cell_type": "code",
   "execution_count": 8,
   "metadata": {},
   "outputs": [
    {
     "data": {
      "text/plain": [
       "\"Resultados de y_pred: [' <=50K' ' <=50K' ' <=50K' ... ' >50K' ' <=50K' ' >50K']\""
      ]
     },
     "metadata": {},
     "output_type": "display_data"
    },
    {
     "data": {
      "text/plain": [
       "'Passos do pipeline (para fins ilustrativos):'"
      ]
     },
     "metadata": {},
     "output_type": "display_data"
    },
    {
     "data": {
      "text/html": [
       "<style>#sk-9a867523-56ce-4afa-85c0-aba64c1f8a97 {color: black;background-color: white;}#sk-9a867523-56ce-4afa-85c0-aba64c1f8a97 pre{padding: 0;}#sk-9a867523-56ce-4afa-85c0-aba64c1f8a97 div.sk-toggleable {background-color: white;}#sk-9a867523-56ce-4afa-85c0-aba64c1f8a97 label.sk-toggleable__label {cursor: pointer;display: block;width: 100%;margin-bottom: 0;padding: 0.2em 0.3em;box-sizing: border-box;text-align: center;}#sk-9a867523-56ce-4afa-85c0-aba64c1f8a97 div.sk-toggleable__content {max-height: 0;max-width: 0;overflow: hidden;text-align: left;background-color: #f0f8ff;}#sk-9a867523-56ce-4afa-85c0-aba64c1f8a97 div.sk-toggleable__content pre {margin: 0.2em;color: black;border-radius: 0.25em;background-color: #f0f8ff;}#sk-9a867523-56ce-4afa-85c0-aba64c1f8a97 input.sk-toggleable__control:checked~div.sk-toggleable__content {max-height: 200px;max-width: 100%;overflow: auto;}#sk-9a867523-56ce-4afa-85c0-aba64c1f8a97 div.sk-estimator input.sk-toggleable__control:checked~label.sk-toggleable__label {background-color: #d4ebff;}#sk-9a867523-56ce-4afa-85c0-aba64c1f8a97 div.sk-label input.sk-toggleable__control:checked~label.sk-toggleable__label {background-color: #d4ebff;}#sk-9a867523-56ce-4afa-85c0-aba64c1f8a97 input.sk-hidden--visually {border: 0;clip: rect(1px 1px 1px 1px);clip: rect(1px, 1px, 1px, 1px);height: 1px;margin: -1px;overflow: hidden;padding: 0;position: absolute;width: 1px;}#sk-9a867523-56ce-4afa-85c0-aba64c1f8a97 div.sk-estimator {font-family: monospace;background-color: #f0f8ff;margin: 0.25em 0.25em;border: 1px dotted black;border-radius: 0.25em;box-sizing: border-box;}#sk-9a867523-56ce-4afa-85c0-aba64c1f8a97 div.sk-estimator:hover {background-color: #d4ebff;}#sk-9a867523-56ce-4afa-85c0-aba64c1f8a97 div.sk-parallel-item::after {content: \"\";width: 100%;border-bottom: 1px solid gray;flex-grow: 1;}#sk-9a867523-56ce-4afa-85c0-aba64c1f8a97 div.sk-label:hover label.sk-toggleable__label {background-color: #d4ebff;}#sk-9a867523-56ce-4afa-85c0-aba64c1f8a97 div.sk-serial::before {content: \"\";position: absolute;border-left: 1px solid gray;box-sizing: border-box;top: 2em;bottom: 0;left: 50%;}#sk-9a867523-56ce-4afa-85c0-aba64c1f8a97 div.sk-serial {display: flex;flex-direction: column;align-items: center;background-color: white;}#sk-9a867523-56ce-4afa-85c0-aba64c1f8a97 div.sk-item {z-index: 1;}#sk-9a867523-56ce-4afa-85c0-aba64c1f8a97 div.sk-parallel {display: flex;align-items: stretch;justify-content: center;background-color: white;}#sk-9a867523-56ce-4afa-85c0-aba64c1f8a97 div.sk-parallel-item {display: flex;flex-direction: column;position: relative;background-color: white;}#sk-9a867523-56ce-4afa-85c0-aba64c1f8a97 div.sk-parallel-item:first-child::after {align-self: flex-end;width: 50%;}#sk-9a867523-56ce-4afa-85c0-aba64c1f8a97 div.sk-parallel-item:last-child::after {align-self: flex-start;width: 50%;}#sk-9a867523-56ce-4afa-85c0-aba64c1f8a97 div.sk-parallel-item:only-child::after {width: 0;}#sk-9a867523-56ce-4afa-85c0-aba64c1f8a97 div.sk-dashed-wrapped {border: 1px dashed gray;margin: 0.2em;box-sizing: border-box;padding-bottom: 0.1em;background-color: white;position: relative;}#sk-9a867523-56ce-4afa-85c0-aba64c1f8a97 div.sk-label label {font-family: monospace;font-weight: bold;background-color: white;display: inline-block;line-height: 1.2em;}#sk-9a867523-56ce-4afa-85c0-aba64c1f8a97 div.sk-label-container {position: relative;z-index: 2;text-align: center;}#sk-9a867523-56ce-4afa-85c0-aba64c1f8a97 div.sk-container {display: inline-block;position: relative;}</style><div id=\"sk-9a867523-56ce-4afa-85c0-aba64c1f8a97\" class\"sk-top-container\"><div class=\"sk-container\"><div class=\"sk-item sk-dashed-wrapped\"><div class=\"sk-label-container\"><div class=\"sk-label sk-toggleable\"><input class=\"sk-toggleable__control sk-hidden--visually\" id=\"9cbdc30d-3e71-4484-b032-a546e5e10d5a\" type=\"checkbox\" ><label class=\"sk-toggleable__label\" for=\"9cbdc30d-3e71-4484-b032-a546e5e10d5a\">Pipeline</label><div class=\"sk-toggleable__content\"><pre>Pipeline(steps=[('encoder',\n",
       "                 OrdinalEncoder(handle_unknown='use_encoded_value',\n",
       "                                unknown_value=-1)),\n",
       "                ('modelo', KNeighborsClassifier())])</pre></div></div></div><div class=\"sk-serial\"><div class=\"sk-item\"><div class=\"sk-estimator sk-toggleable\"><input class=\"sk-toggleable__control sk-hidden--visually\" id=\"74b4aeca-b65f-46dc-8bea-95ef2dea6c77\" type=\"checkbox\" ><label class=\"sk-toggleable__label\" for=\"74b4aeca-b65f-46dc-8bea-95ef2dea6c77\">OrdinalEncoder</label><div class=\"sk-toggleable__content\"><pre>OrdinalEncoder(handle_unknown='use_encoded_value', unknown_value=-1)</pre></div></div></div><div class=\"sk-item\"><div class=\"sk-estimator sk-toggleable\"><input class=\"sk-toggleable__control sk-hidden--visually\" id=\"f300b7ea-2a79-450d-b1c9-9692dc084d24\" type=\"checkbox\" ><label class=\"sk-toggleable__label\" for=\"f300b7ea-2a79-450d-b1c9-9692dc084d24\">KNeighborsClassifier</label><div class=\"sk-toggleable__content\"><pre>KNeighborsClassifier()</pre></div></div></div></div></div></div></div>"
      ],
      "text/plain": [
       "Pipeline(steps=[('encoder',\n",
       "                 OrdinalEncoder(handle_unknown='use_encoded_value',\n",
       "                                unknown_value=-1)),\n",
       "                ('modelo', KNeighborsClassifier())])"
      ]
     },
     "execution_count": 8,
     "metadata": {},
     "output_type": "execute_result"
    }
   ],
   "source": [
    "pipe = Pipeline([('encoder', OrdinalEncoder(handle_unknown='use_encoded_value', unknown_value=-1)),\n",
    "                 ('modelo', KNeighborsClassifier())]).fit(X_train, y_train)\n",
    "\n",
    "y_pred = pipe.predict(X_test)\n",
    "display(f'Resultados de y_pred: {y_pred}')\n",
    "\n",
    "display(f'Passos do pipeline (para fins ilustrativos):')\n",
    "pipe"
   ]
  },
  {
   "cell_type": "markdown",
   "metadata": {},
   "source": [
    "Note que também podemos testar outras combinações de pipelines e/ou incluir novos passos. Exemplos:"
   ]
  },
  {
   "cell_type": "code",
   "execution_count": 9,
   "metadata": {},
   "outputs": [
    {
     "data": {
      "text/plain": [
       "\"Resultados de y_pred: [' <=50K' ' <=50K' ' <=50K' ... ' >50K' ' >50K' ' >50K']\""
      ]
     },
     "metadata": {},
     "output_type": "display_data"
    },
    {
     "data": {
      "text/plain": [
       "'Passos do pipeline (para fins ilustrativos):'"
      ]
     },
     "metadata": {},
     "output_type": "display_data"
    },
    {
     "data": {
      "text/html": [
       "<style>#sk-4501699d-a3c6-4821-bb35-fec221195205 {color: black;background-color: white;}#sk-4501699d-a3c6-4821-bb35-fec221195205 pre{padding: 0;}#sk-4501699d-a3c6-4821-bb35-fec221195205 div.sk-toggleable {background-color: white;}#sk-4501699d-a3c6-4821-bb35-fec221195205 label.sk-toggleable__label {cursor: pointer;display: block;width: 100%;margin-bottom: 0;padding: 0.2em 0.3em;box-sizing: border-box;text-align: center;}#sk-4501699d-a3c6-4821-bb35-fec221195205 div.sk-toggleable__content {max-height: 0;max-width: 0;overflow: hidden;text-align: left;background-color: #f0f8ff;}#sk-4501699d-a3c6-4821-bb35-fec221195205 div.sk-toggleable__content pre {margin: 0.2em;color: black;border-radius: 0.25em;background-color: #f0f8ff;}#sk-4501699d-a3c6-4821-bb35-fec221195205 input.sk-toggleable__control:checked~div.sk-toggleable__content {max-height: 200px;max-width: 100%;overflow: auto;}#sk-4501699d-a3c6-4821-bb35-fec221195205 div.sk-estimator input.sk-toggleable__control:checked~label.sk-toggleable__label {background-color: #d4ebff;}#sk-4501699d-a3c6-4821-bb35-fec221195205 div.sk-label input.sk-toggleable__control:checked~label.sk-toggleable__label {background-color: #d4ebff;}#sk-4501699d-a3c6-4821-bb35-fec221195205 input.sk-hidden--visually {border: 0;clip: rect(1px 1px 1px 1px);clip: rect(1px, 1px, 1px, 1px);height: 1px;margin: -1px;overflow: hidden;padding: 0;position: absolute;width: 1px;}#sk-4501699d-a3c6-4821-bb35-fec221195205 div.sk-estimator {font-family: monospace;background-color: #f0f8ff;margin: 0.25em 0.25em;border: 1px dotted black;border-radius: 0.25em;box-sizing: border-box;}#sk-4501699d-a3c6-4821-bb35-fec221195205 div.sk-estimator:hover {background-color: #d4ebff;}#sk-4501699d-a3c6-4821-bb35-fec221195205 div.sk-parallel-item::after {content: \"\";width: 100%;border-bottom: 1px solid gray;flex-grow: 1;}#sk-4501699d-a3c6-4821-bb35-fec221195205 div.sk-label:hover label.sk-toggleable__label {background-color: #d4ebff;}#sk-4501699d-a3c6-4821-bb35-fec221195205 div.sk-serial::before {content: \"\";position: absolute;border-left: 1px solid gray;box-sizing: border-box;top: 2em;bottom: 0;left: 50%;}#sk-4501699d-a3c6-4821-bb35-fec221195205 div.sk-serial {display: flex;flex-direction: column;align-items: center;background-color: white;}#sk-4501699d-a3c6-4821-bb35-fec221195205 div.sk-item {z-index: 1;}#sk-4501699d-a3c6-4821-bb35-fec221195205 div.sk-parallel {display: flex;align-items: stretch;justify-content: center;background-color: white;}#sk-4501699d-a3c6-4821-bb35-fec221195205 div.sk-parallel-item {display: flex;flex-direction: column;position: relative;background-color: white;}#sk-4501699d-a3c6-4821-bb35-fec221195205 div.sk-parallel-item:first-child::after {align-self: flex-end;width: 50%;}#sk-4501699d-a3c6-4821-bb35-fec221195205 div.sk-parallel-item:last-child::after {align-self: flex-start;width: 50%;}#sk-4501699d-a3c6-4821-bb35-fec221195205 div.sk-parallel-item:only-child::after {width: 0;}#sk-4501699d-a3c6-4821-bb35-fec221195205 div.sk-dashed-wrapped {border: 1px dashed gray;margin: 0.2em;box-sizing: border-box;padding-bottom: 0.1em;background-color: white;position: relative;}#sk-4501699d-a3c6-4821-bb35-fec221195205 div.sk-label label {font-family: monospace;font-weight: bold;background-color: white;display: inline-block;line-height: 1.2em;}#sk-4501699d-a3c6-4821-bb35-fec221195205 div.sk-label-container {position: relative;z-index: 2;text-align: center;}#sk-4501699d-a3c6-4821-bb35-fec221195205 div.sk-container {display: inline-block;position: relative;}</style><div id=\"sk-4501699d-a3c6-4821-bb35-fec221195205\" class\"sk-top-container\"><div class=\"sk-container\"><div class=\"sk-item sk-dashed-wrapped\"><div class=\"sk-label-container\"><div class=\"sk-label sk-toggleable\"><input class=\"sk-toggleable__control sk-hidden--visually\" id=\"ca314c80-6a41-4f19-a334-697f5aa58df4\" type=\"checkbox\" ><label class=\"sk-toggleable__label\" for=\"ca314c80-6a41-4f19-a334-697f5aa58df4\">Pipeline</label><div class=\"sk-toggleable__content\"><pre>Pipeline(steps=[('encoder',\n",
       "                 OneHotEncoder(handle_unknown='ignore', sparse=False)),\n",
       "                ('pca', PCA(n_components=3)),\n",
       "                ('modelo', RandomForestClassifier())])</pre></div></div></div><div class=\"sk-serial\"><div class=\"sk-item\"><div class=\"sk-estimator sk-toggleable\"><input class=\"sk-toggleable__control sk-hidden--visually\" id=\"690750fa-1016-4d7e-9ccf-c7d55e466965\" type=\"checkbox\" ><label class=\"sk-toggleable__label\" for=\"690750fa-1016-4d7e-9ccf-c7d55e466965\">OneHotEncoder</label><div class=\"sk-toggleable__content\"><pre>OneHotEncoder(handle_unknown='ignore', sparse=False)</pre></div></div></div><div class=\"sk-item\"><div class=\"sk-estimator sk-toggleable\"><input class=\"sk-toggleable__control sk-hidden--visually\" id=\"eb2c0da0-ceff-4d0a-bc00-8c9e1838a1ab\" type=\"checkbox\" ><label class=\"sk-toggleable__label\" for=\"eb2c0da0-ceff-4d0a-bc00-8c9e1838a1ab\">PCA</label><div class=\"sk-toggleable__content\"><pre>PCA(n_components=3)</pre></div></div></div><div class=\"sk-item\"><div class=\"sk-estimator sk-toggleable\"><input class=\"sk-toggleable__control sk-hidden--visually\" id=\"6f676a81-2f1a-4100-aab0-29fc43dfb4ef\" type=\"checkbox\" ><label class=\"sk-toggleable__label\" for=\"6f676a81-2f1a-4100-aab0-29fc43dfb4ef\">RandomForestClassifier</label><div class=\"sk-toggleable__content\"><pre>RandomForestClassifier()</pre></div></div></div></div></div></div></div>"
      ],
      "text/plain": [
       "Pipeline(steps=[('encoder',\n",
       "                 OneHotEncoder(handle_unknown='ignore', sparse=False)),\n",
       "                ('pca', PCA(n_components=3)),\n",
       "                ('modelo', RandomForestClassifier())])"
      ]
     },
     "execution_count": 9,
     "metadata": {},
     "output_type": "execute_result"
    }
   ],
   "source": [
    "pipe_pca = Pipeline([('encoder', OneHotEncoder(handle_unknown='ignore', sparse=False)),\n",
    "                     ('pca', PCA(n_components=3)),\n",
    "                     ('modelo', RandomForestClassifier())]).fit(X_train, y_train)\n",
    "\n",
    "y_pred_pca = pipe_pca.predict(X_test)\n",
    "display(f'Resultados de y_pred: {y_pred_pca}')\n",
    "\n",
    "display(f'Passos do pipeline (para fins ilustrativos):')\n",
    "pipe_pca"
   ]
  },
  {
   "cell_type": "code",
   "execution_count": 10,
   "metadata": {},
   "outputs": [
    {
     "data": {
      "text/plain": [
       "\"Resultados de y_pred: [' <=50K' ' <=50K' ' <=50K' ... ' >50K' ' <=50K' ' >50K']\""
      ]
     },
     "metadata": {},
     "output_type": "display_data"
    },
    {
     "data": {
      "text/plain": [
       "'Passos do pipeline (para fins ilustrativos):'"
      ]
     },
     "metadata": {},
     "output_type": "display_data"
    },
    {
     "data": {
      "text/html": [
       "<style>#sk-a5d760a1-1106-4594-a9ed-4508fc105c30 {color: black;background-color: white;}#sk-a5d760a1-1106-4594-a9ed-4508fc105c30 pre{padding: 0;}#sk-a5d760a1-1106-4594-a9ed-4508fc105c30 div.sk-toggleable {background-color: white;}#sk-a5d760a1-1106-4594-a9ed-4508fc105c30 label.sk-toggleable__label {cursor: pointer;display: block;width: 100%;margin-bottom: 0;padding: 0.2em 0.3em;box-sizing: border-box;text-align: center;}#sk-a5d760a1-1106-4594-a9ed-4508fc105c30 div.sk-toggleable__content {max-height: 0;max-width: 0;overflow: hidden;text-align: left;background-color: #f0f8ff;}#sk-a5d760a1-1106-4594-a9ed-4508fc105c30 div.sk-toggleable__content pre {margin: 0.2em;color: black;border-radius: 0.25em;background-color: #f0f8ff;}#sk-a5d760a1-1106-4594-a9ed-4508fc105c30 input.sk-toggleable__control:checked~div.sk-toggleable__content {max-height: 200px;max-width: 100%;overflow: auto;}#sk-a5d760a1-1106-4594-a9ed-4508fc105c30 div.sk-estimator input.sk-toggleable__control:checked~label.sk-toggleable__label {background-color: #d4ebff;}#sk-a5d760a1-1106-4594-a9ed-4508fc105c30 div.sk-label input.sk-toggleable__control:checked~label.sk-toggleable__label {background-color: #d4ebff;}#sk-a5d760a1-1106-4594-a9ed-4508fc105c30 input.sk-hidden--visually {border: 0;clip: rect(1px 1px 1px 1px);clip: rect(1px, 1px, 1px, 1px);height: 1px;margin: -1px;overflow: hidden;padding: 0;position: absolute;width: 1px;}#sk-a5d760a1-1106-4594-a9ed-4508fc105c30 div.sk-estimator {font-family: monospace;background-color: #f0f8ff;margin: 0.25em 0.25em;border: 1px dotted black;border-radius: 0.25em;box-sizing: border-box;}#sk-a5d760a1-1106-4594-a9ed-4508fc105c30 div.sk-estimator:hover {background-color: #d4ebff;}#sk-a5d760a1-1106-4594-a9ed-4508fc105c30 div.sk-parallel-item::after {content: \"\";width: 100%;border-bottom: 1px solid gray;flex-grow: 1;}#sk-a5d760a1-1106-4594-a9ed-4508fc105c30 div.sk-label:hover label.sk-toggleable__label {background-color: #d4ebff;}#sk-a5d760a1-1106-4594-a9ed-4508fc105c30 div.sk-serial::before {content: \"\";position: absolute;border-left: 1px solid gray;box-sizing: border-box;top: 2em;bottom: 0;left: 50%;}#sk-a5d760a1-1106-4594-a9ed-4508fc105c30 div.sk-serial {display: flex;flex-direction: column;align-items: center;background-color: white;}#sk-a5d760a1-1106-4594-a9ed-4508fc105c30 div.sk-item {z-index: 1;}#sk-a5d760a1-1106-4594-a9ed-4508fc105c30 div.sk-parallel {display: flex;align-items: stretch;justify-content: center;background-color: white;}#sk-a5d760a1-1106-4594-a9ed-4508fc105c30 div.sk-parallel-item {display: flex;flex-direction: column;position: relative;background-color: white;}#sk-a5d760a1-1106-4594-a9ed-4508fc105c30 div.sk-parallel-item:first-child::after {align-self: flex-end;width: 50%;}#sk-a5d760a1-1106-4594-a9ed-4508fc105c30 div.sk-parallel-item:last-child::after {align-self: flex-start;width: 50%;}#sk-a5d760a1-1106-4594-a9ed-4508fc105c30 div.sk-parallel-item:only-child::after {width: 0;}#sk-a5d760a1-1106-4594-a9ed-4508fc105c30 div.sk-dashed-wrapped {border: 1px dashed gray;margin: 0.2em;box-sizing: border-box;padding-bottom: 0.1em;background-color: white;position: relative;}#sk-a5d760a1-1106-4594-a9ed-4508fc105c30 div.sk-label label {font-family: monospace;font-weight: bold;background-color: white;display: inline-block;line-height: 1.2em;}#sk-a5d760a1-1106-4594-a9ed-4508fc105c30 div.sk-label-container {position: relative;z-index: 2;text-align: center;}#sk-a5d760a1-1106-4594-a9ed-4508fc105c30 div.sk-container {display: inline-block;position: relative;}</style><div id=\"sk-a5d760a1-1106-4594-a9ed-4508fc105c30\" class\"sk-top-container\"><div class=\"sk-container\"><div class=\"sk-item sk-dashed-wrapped\"><div class=\"sk-label-container\"><div class=\"sk-label sk-toggleable\"><input class=\"sk-toggleable__control sk-hidden--visually\" id=\"771a61aa-f60b-4da8-bfd2-d5a7d99a94ce\" type=\"checkbox\" ><label class=\"sk-toggleable__label\" for=\"771a61aa-f60b-4da8-bfd2-d5a7d99a94ce\">Pipeline</label><div class=\"sk-toggleable__content\"><pre>Pipeline(steps=[('encoder',\n",
       "                 OrdinalEncoder(handle_unknown='use_encoded_value',\n",
       "                                unknown_value=-1)),\n",
       "                ('modelo', RandomForestClassifier(random_state=0))])</pre></div></div></div><div class=\"sk-serial\"><div class=\"sk-item\"><div class=\"sk-estimator sk-toggleable\"><input class=\"sk-toggleable__control sk-hidden--visually\" id=\"daac9b90-7c5b-410d-bfce-152ce34344ef\" type=\"checkbox\" ><label class=\"sk-toggleable__label\" for=\"daac9b90-7c5b-410d-bfce-152ce34344ef\">OrdinalEncoder</label><div class=\"sk-toggleable__content\"><pre>OrdinalEncoder(handle_unknown='use_encoded_value', unknown_value=-1)</pre></div></div></div><div class=\"sk-item\"><div class=\"sk-estimator sk-toggleable\"><input class=\"sk-toggleable__control sk-hidden--visually\" id=\"389d02be-b9ef-47ae-b328-d217d38bd0ba\" type=\"checkbox\" ><label class=\"sk-toggleable__label\" for=\"389d02be-b9ef-47ae-b328-d217d38bd0ba\">RandomForestClassifier</label><div class=\"sk-toggleable__content\"><pre>RandomForestClassifier(random_state=0)</pre></div></div></div></div></div></div></div>"
      ],
      "text/plain": [
       "Pipeline(steps=[('encoder',\n",
       "                 OrdinalEncoder(handle_unknown='use_encoded_value',\n",
       "                                unknown_value=-1)),\n",
       "                ('modelo', RandomForestClassifier(random_state=0))])"
      ]
     },
     "execution_count": 10,
     "metadata": {},
     "output_type": "execute_result"
    }
   ],
   "source": [
    "pipe_rf = Pipeline([('encoder', OrdinalEncoder(handle_unknown='use_encoded_value', unknown_value=-1)),\n",
    "                    ('modelo', RandomForestClassifier(random_state=0))]).fit(X_train, y_train)\n",
    "\n",
    "y_pred_rf = pipe_rf.predict(X_test)\n",
    "display(f'Resultados de y_pred: {y_pred_rf}')\n",
    "\n",
    "display(f'Passos do pipeline (para fins ilustrativos):')\n",
    "pipe_rf"
   ]
  },
  {
   "cell_type": "code",
   "execution_count": 11,
   "metadata": {},
   "outputs": [
    {
     "data": {
      "text/plain": [
       "\"Resultados de y_pred_scaler: [' <=50K' ' <=50K' ' <=50K' ... ' >50K' ' <=50K' ' >50K']\""
      ]
     },
     "metadata": {},
     "output_type": "display_data"
    },
    {
     "data": {
      "text/plain": [
       "'Passos do pipeline (para fins ilustrativos):'"
      ]
     },
     "metadata": {},
     "output_type": "display_data"
    },
    {
     "data": {
      "text/html": [
       "<style>#sk-b610ba26-dd80-443c-959b-8a6dca6dbc03 {color: black;background-color: white;}#sk-b610ba26-dd80-443c-959b-8a6dca6dbc03 pre{padding: 0;}#sk-b610ba26-dd80-443c-959b-8a6dca6dbc03 div.sk-toggleable {background-color: white;}#sk-b610ba26-dd80-443c-959b-8a6dca6dbc03 label.sk-toggleable__label {cursor: pointer;display: block;width: 100%;margin-bottom: 0;padding: 0.2em 0.3em;box-sizing: border-box;text-align: center;}#sk-b610ba26-dd80-443c-959b-8a6dca6dbc03 div.sk-toggleable__content {max-height: 0;max-width: 0;overflow: hidden;text-align: left;background-color: #f0f8ff;}#sk-b610ba26-dd80-443c-959b-8a6dca6dbc03 div.sk-toggleable__content pre {margin: 0.2em;color: black;border-radius: 0.25em;background-color: #f0f8ff;}#sk-b610ba26-dd80-443c-959b-8a6dca6dbc03 input.sk-toggleable__control:checked~div.sk-toggleable__content {max-height: 200px;max-width: 100%;overflow: auto;}#sk-b610ba26-dd80-443c-959b-8a6dca6dbc03 div.sk-estimator input.sk-toggleable__control:checked~label.sk-toggleable__label {background-color: #d4ebff;}#sk-b610ba26-dd80-443c-959b-8a6dca6dbc03 div.sk-label input.sk-toggleable__control:checked~label.sk-toggleable__label {background-color: #d4ebff;}#sk-b610ba26-dd80-443c-959b-8a6dca6dbc03 input.sk-hidden--visually {border: 0;clip: rect(1px 1px 1px 1px);clip: rect(1px, 1px, 1px, 1px);height: 1px;margin: -1px;overflow: hidden;padding: 0;position: absolute;width: 1px;}#sk-b610ba26-dd80-443c-959b-8a6dca6dbc03 div.sk-estimator {font-family: monospace;background-color: #f0f8ff;margin: 0.25em 0.25em;border: 1px dotted black;border-radius: 0.25em;box-sizing: border-box;}#sk-b610ba26-dd80-443c-959b-8a6dca6dbc03 div.sk-estimator:hover {background-color: #d4ebff;}#sk-b610ba26-dd80-443c-959b-8a6dca6dbc03 div.sk-parallel-item::after {content: \"\";width: 100%;border-bottom: 1px solid gray;flex-grow: 1;}#sk-b610ba26-dd80-443c-959b-8a6dca6dbc03 div.sk-label:hover label.sk-toggleable__label {background-color: #d4ebff;}#sk-b610ba26-dd80-443c-959b-8a6dca6dbc03 div.sk-serial::before {content: \"\";position: absolute;border-left: 1px solid gray;box-sizing: border-box;top: 2em;bottom: 0;left: 50%;}#sk-b610ba26-dd80-443c-959b-8a6dca6dbc03 div.sk-serial {display: flex;flex-direction: column;align-items: center;background-color: white;}#sk-b610ba26-dd80-443c-959b-8a6dca6dbc03 div.sk-item {z-index: 1;}#sk-b610ba26-dd80-443c-959b-8a6dca6dbc03 div.sk-parallel {display: flex;align-items: stretch;justify-content: center;background-color: white;}#sk-b610ba26-dd80-443c-959b-8a6dca6dbc03 div.sk-parallel-item {display: flex;flex-direction: column;position: relative;background-color: white;}#sk-b610ba26-dd80-443c-959b-8a6dca6dbc03 div.sk-parallel-item:first-child::after {align-self: flex-end;width: 50%;}#sk-b610ba26-dd80-443c-959b-8a6dca6dbc03 div.sk-parallel-item:last-child::after {align-self: flex-start;width: 50%;}#sk-b610ba26-dd80-443c-959b-8a6dca6dbc03 div.sk-parallel-item:only-child::after {width: 0;}#sk-b610ba26-dd80-443c-959b-8a6dca6dbc03 div.sk-dashed-wrapped {border: 1px dashed gray;margin: 0.2em;box-sizing: border-box;padding-bottom: 0.1em;background-color: white;position: relative;}#sk-b610ba26-dd80-443c-959b-8a6dca6dbc03 div.sk-label label {font-family: monospace;font-weight: bold;background-color: white;display: inline-block;line-height: 1.2em;}#sk-b610ba26-dd80-443c-959b-8a6dca6dbc03 div.sk-label-container {position: relative;z-index: 2;text-align: center;}#sk-b610ba26-dd80-443c-959b-8a6dca6dbc03 div.sk-container {display: inline-block;position: relative;}</style><div id=\"sk-b610ba26-dd80-443c-959b-8a6dca6dbc03\" class\"sk-top-container\"><div class=\"sk-container\"><div class=\"sk-item sk-dashed-wrapped\"><div class=\"sk-label-container\"><div class=\"sk-label sk-toggleable\"><input class=\"sk-toggleable__control sk-hidden--visually\" id=\"eea9fa76-16d2-4a02-9632-11407cace0b5\" type=\"checkbox\" ><label class=\"sk-toggleable__label\" for=\"eea9fa76-16d2-4a02-9632-11407cace0b5\">Pipeline</label><div class=\"sk-toggleable__content\"><pre>Pipeline(steps=[('encoder',\n",
       "                 OrdinalEncoder(handle_unknown='use_encoded_value',\n",
       "                                unknown_value=-1)),\n",
       "                ('scaler', RobustScaler()),\n",
       "                ('modelo', KNeighborsClassifier())])</pre></div></div></div><div class=\"sk-serial\"><div class=\"sk-item\"><div class=\"sk-estimator sk-toggleable\"><input class=\"sk-toggleable__control sk-hidden--visually\" id=\"d3c465fe-0eed-4cd0-9d54-28349a15ba52\" type=\"checkbox\" ><label class=\"sk-toggleable__label\" for=\"d3c465fe-0eed-4cd0-9d54-28349a15ba52\">OrdinalEncoder</label><div class=\"sk-toggleable__content\"><pre>OrdinalEncoder(handle_unknown='use_encoded_value', unknown_value=-1)</pre></div></div></div><div class=\"sk-item\"><div class=\"sk-estimator sk-toggleable\"><input class=\"sk-toggleable__control sk-hidden--visually\" id=\"498282b1-a98b-40e8-8980-6dd0fa599667\" type=\"checkbox\" ><label class=\"sk-toggleable__label\" for=\"498282b1-a98b-40e8-8980-6dd0fa599667\">RobustScaler</label><div class=\"sk-toggleable__content\"><pre>RobustScaler()</pre></div></div></div><div class=\"sk-item\"><div class=\"sk-estimator sk-toggleable\"><input class=\"sk-toggleable__control sk-hidden--visually\" id=\"ee029111-1b17-47b7-9e4b-43dcce6c7ed1\" type=\"checkbox\" ><label class=\"sk-toggleable__label\" for=\"ee029111-1b17-47b7-9e4b-43dcce6c7ed1\">KNeighborsClassifier</label><div class=\"sk-toggleable__content\"><pre>KNeighborsClassifier()</pre></div></div></div></div></div></div></div>"
      ],
      "text/plain": [
       "Pipeline(steps=[('encoder',\n",
       "                 OrdinalEncoder(handle_unknown='use_encoded_value',\n",
       "                                unknown_value=-1)),\n",
       "                ('scaler', RobustScaler()),\n",
       "                ('modelo', KNeighborsClassifier())])"
      ]
     },
     "execution_count": 11,
     "metadata": {},
     "output_type": "execute_result"
    }
   ],
   "source": [
    "pipe_scaler = Pipeline([('encoder', OrdinalEncoder(handle_unknown='use_encoded_value', unknown_value=-1)),\n",
    "                        ('scaler', RobustScaler()),\n",
    "                        ('modelo', KNeighborsClassifier())]).fit(X_train, y_train)\n",
    "\n",
    "y_pred_scaler = pipe_scaler.predict(X_test)\n",
    "display(f'Resultados de y_pred_scaler: {y_pred_scaler}')\n",
    "\n",
    "display(f'Passos do pipeline (para fins ilustrativos):')\n",
    "pipe_scaler"
   ]
  },
  {
   "cell_type": "code",
   "execution_count": 12,
   "metadata": {},
   "outputs": [
    {
     "data": {
      "text/plain": [
       "\"Resultados de y_pred: [' <=50K' ' <=50K' ' <=50K' ... ' >50K' ' <=50K' ' >50K']\""
      ]
     },
     "metadata": {},
     "output_type": "display_data"
    },
    {
     "data": {
      "text/plain": [
       "'Passos do pipeline (para fins ilustrativos):'"
      ]
     },
     "metadata": {},
     "output_type": "display_data"
    },
    {
     "data": {
      "text/html": [
       "<style>#sk-399d1847-87d2-442c-a405-e958a8750fb9 {color: black;background-color: white;}#sk-399d1847-87d2-442c-a405-e958a8750fb9 pre{padding: 0;}#sk-399d1847-87d2-442c-a405-e958a8750fb9 div.sk-toggleable {background-color: white;}#sk-399d1847-87d2-442c-a405-e958a8750fb9 label.sk-toggleable__label {cursor: pointer;display: block;width: 100%;margin-bottom: 0;padding: 0.2em 0.3em;box-sizing: border-box;text-align: center;}#sk-399d1847-87d2-442c-a405-e958a8750fb9 div.sk-toggleable__content {max-height: 0;max-width: 0;overflow: hidden;text-align: left;background-color: #f0f8ff;}#sk-399d1847-87d2-442c-a405-e958a8750fb9 div.sk-toggleable__content pre {margin: 0.2em;color: black;border-radius: 0.25em;background-color: #f0f8ff;}#sk-399d1847-87d2-442c-a405-e958a8750fb9 input.sk-toggleable__control:checked~div.sk-toggleable__content {max-height: 200px;max-width: 100%;overflow: auto;}#sk-399d1847-87d2-442c-a405-e958a8750fb9 div.sk-estimator input.sk-toggleable__control:checked~label.sk-toggleable__label {background-color: #d4ebff;}#sk-399d1847-87d2-442c-a405-e958a8750fb9 div.sk-label input.sk-toggleable__control:checked~label.sk-toggleable__label {background-color: #d4ebff;}#sk-399d1847-87d2-442c-a405-e958a8750fb9 input.sk-hidden--visually {border: 0;clip: rect(1px 1px 1px 1px);clip: rect(1px, 1px, 1px, 1px);height: 1px;margin: -1px;overflow: hidden;padding: 0;position: absolute;width: 1px;}#sk-399d1847-87d2-442c-a405-e958a8750fb9 div.sk-estimator {font-family: monospace;background-color: #f0f8ff;margin: 0.25em 0.25em;border: 1px dotted black;border-radius: 0.25em;box-sizing: border-box;}#sk-399d1847-87d2-442c-a405-e958a8750fb9 div.sk-estimator:hover {background-color: #d4ebff;}#sk-399d1847-87d2-442c-a405-e958a8750fb9 div.sk-parallel-item::after {content: \"\";width: 100%;border-bottom: 1px solid gray;flex-grow: 1;}#sk-399d1847-87d2-442c-a405-e958a8750fb9 div.sk-label:hover label.sk-toggleable__label {background-color: #d4ebff;}#sk-399d1847-87d2-442c-a405-e958a8750fb9 div.sk-serial::before {content: \"\";position: absolute;border-left: 1px solid gray;box-sizing: border-box;top: 2em;bottom: 0;left: 50%;}#sk-399d1847-87d2-442c-a405-e958a8750fb9 div.sk-serial {display: flex;flex-direction: column;align-items: center;background-color: white;}#sk-399d1847-87d2-442c-a405-e958a8750fb9 div.sk-item {z-index: 1;}#sk-399d1847-87d2-442c-a405-e958a8750fb9 div.sk-parallel {display: flex;align-items: stretch;justify-content: center;background-color: white;}#sk-399d1847-87d2-442c-a405-e958a8750fb9 div.sk-parallel-item {display: flex;flex-direction: column;position: relative;background-color: white;}#sk-399d1847-87d2-442c-a405-e958a8750fb9 div.sk-parallel-item:first-child::after {align-self: flex-end;width: 50%;}#sk-399d1847-87d2-442c-a405-e958a8750fb9 div.sk-parallel-item:last-child::after {align-self: flex-start;width: 50%;}#sk-399d1847-87d2-442c-a405-e958a8750fb9 div.sk-parallel-item:only-child::after {width: 0;}#sk-399d1847-87d2-442c-a405-e958a8750fb9 div.sk-dashed-wrapped {border: 1px dashed gray;margin: 0.2em;box-sizing: border-box;padding-bottom: 0.1em;background-color: white;position: relative;}#sk-399d1847-87d2-442c-a405-e958a8750fb9 div.sk-label label {font-family: monospace;font-weight: bold;background-color: white;display: inline-block;line-height: 1.2em;}#sk-399d1847-87d2-442c-a405-e958a8750fb9 div.sk-label-container {position: relative;z-index: 2;text-align: center;}#sk-399d1847-87d2-442c-a405-e958a8750fb9 div.sk-container {display: inline-block;position: relative;}</style><div id=\"sk-399d1847-87d2-442c-a405-e958a8750fb9\" class\"sk-top-container\"><div class=\"sk-container\"><div class=\"sk-item sk-dashed-wrapped\"><div class=\"sk-label-container\"><div class=\"sk-label sk-toggleable\"><input class=\"sk-toggleable__control sk-hidden--visually\" id=\"894c4770-75f7-459f-ace0-3feda7c37bd3\" type=\"checkbox\" ><label class=\"sk-toggleable__label\" for=\"894c4770-75f7-459f-ace0-3feda7c37bd3\">Pipeline</label><div class=\"sk-toggleable__content\"><pre>Pipeline(steps=[('encoder',\n",
       "                 OrdinalEncoder(handle_unknown='use_encoded_value',\n",
       "                                unknown_value=-1)),\n",
       "                ('modelo', LGBMClassifier(random_state=0))])</pre></div></div></div><div class=\"sk-serial\"><div class=\"sk-item\"><div class=\"sk-estimator sk-toggleable\"><input class=\"sk-toggleable__control sk-hidden--visually\" id=\"92740b4b-1480-4985-bcca-85e74f4d6a58\" type=\"checkbox\" ><label class=\"sk-toggleable__label\" for=\"92740b4b-1480-4985-bcca-85e74f4d6a58\">OrdinalEncoder</label><div class=\"sk-toggleable__content\"><pre>OrdinalEncoder(handle_unknown='use_encoded_value', unknown_value=-1)</pre></div></div></div><div class=\"sk-item\"><div class=\"sk-estimator sk-toggleable\"><input class=\"sk-toggleable__control sk-hidden--visually\" id=\"2b14baa8-2656-487c-bffd-64280bb42e1b\" type=\"checkbox\" ><label class=\"sk-toggleable__label\" for=\"2b14baa8-2656-487c-bffd-64280bb42e1b\">LGBMClassifier</label><div class=\"sk-toggleable__content\"><pre>LGBMClassifier(random_state=0)</pre></div></div></div></div></div></div></div>"
      ],
      "text/plain": [
       "Pipeline(steps=[('encoder',\n",
       "                 OrdinalEncoder(handle_unknown='use_encoded_value',\n",
       "                                unknown_value=-1)),\n",
       "                ('modelo', LGBMClassifier(random_state=0))])"
      ]
     },
     "execution_count": 12,
     "metadata": {},
     "output_type": "execute_result"
    }
   ],
   "source": [
    "pipe_lgbm = Pipeline([('encoder', OrdinalEncoder(handle_unknown='use_encoded_value', unknown_value=-1)),\n",
    "                    ('modelo', LGBMClassifier(random_state=0))]).fit(X_train, y_train)\n",
    "\n",
    "y_pred_lgbm = pipe_lgbm.predict(X_test)\n",
    "display(f'Resultados de y_pred: {y_pred_lgbm}')\n",
    "\n",
    "display(f'Passos do pipeline (para fins ilustrativos):')\n",
    "pipe_lgbm"
   ]
  },
  {
   "cell_type": "markdown",
   "metadata": {},
   "source": [
    "## Comparando os resultados\n",
    "\n",
    "Utilizaremos o F1 score para comparar os resultados. Observe o impacto das diferentes configurações de pipelines sobre os resultados."
   ]
  },
  {
   "cell_type": "code",
   "execution_count": 13,
   "metadata": {},
   "outputs": [
    {
     "data": {
      "text/plain": [
       "'Resultados para o primeiro pipeline: 0.4603330068560235'"
      ]
     },
     "metadata": {},
     "output_type": "display_data"
    },
    {
     "data": {
      "text/plain": [
       "'Resultados para o segundo pipeline: 0.5748626373626373'"
      ]
     },
     "metadata": {},
     "output_type": "display_data"
    },
    {
     "data": {
      "text/plain": [
       "'Resultados para o terceiro pipeline: 0.6677989130434783'"
      ]
     },
     "metadata": {},
     "output_type": "display_data"
    },
    {
     "data": {
      "text/plain": [
       "'Resultados para o quarto pipeline: 0.645945945945946'"
      ]
     },
     "metadata": {},
     "output_type": "display_data"
    },
    {
     "data": {
      "text/plain": [
       "'Resultados para o quinto pipeline: 0.7068565750248427'"
      ]
     },
     "metadata": {},
     "output_type": "display_data"
    }
   ],
   "source": [
    "display(f\"Resultados para o primeiro pipeline: {f1_score(y_test, y_pred, pos_label=' >50K')}\")\n",
    "display(f\"Resultados para o segundo pipeline: {f1_score(y_test, y_pred_pca, pos_label=' >50K')}\")\n",
    "display(f\"Resultados para o terceiro pipeline: {f1_score(y_test, y_pred_rf, pos_label=' >50K')}\")\n",
    "display(f\"Resultados para o quarto pipeline: {f1_score(y_test, y_pred_scaler, pos_label=' >50K')}\")\n",
    "display(f\"Resultados para o quinto pipeline: {f1_score(y_test, y_pred_lgbm, pos_label=' >50K')}\")"
   ]
  },
  {
   "cell_type": "markdown",
   "metadata": {},
   "source": [
    "# Otimização de hiperparâmetros\n",
    "\n",
    "A princípio o pipeline (```OrdinalEncoder``` + ```KNeighborsClassifier```) teve piores resultados. Mas será que conseguiríamos resultados melhores com ele? Existem dois principais métodos no scikit-learn para isso: o <a href=\"https://scikit-learn.org/stable/modules/generated/sklearn.model_selection.RandomizedSearchCV.html#sklearn.model_selection.RandomizedSearchCV\">RandomSearchCV</a> e o <a href=\"https://scikit-learn.org/stable/modules/generated/sklearn.model_selection.GridSearchCV.html#sklearn.model_selection.GridSearchCV\">GridSearchCV</a>.\n",
    "\n",
    "O GridSearchCV é o que chamamos de *busca exaustiva*: ele testará todas as combinações de todos os parâmetros que você informar, o que pode ser bem lento dependendo de quantas combinações existirem.\n",
    "\n",
    "O RandomSearchCV seleciona aleatoriamente algumas das combinações. É mais rápido, mas não significa necessariamente que encontrará os melhores resultados.\n",
    "\n",
    "Existem outros algoritmos de otimização de hiperparâmetros como, por exemplo, a otimização bayesiana e o halving grid search. Por outro lado, o random search e o grid search são de longe os mais conhecidos. Para fazer a otimização precisamos informar todas as combinações que gostaríamos que fossem testadas. Dessa forma:\n",
    "\n",
    "1. Abrimos a documentação do modelo que queremos otimizar (no caso, o <a href=\"https://scikit-learn.org/stable/modules/generated/sklearn.neighbors.KNeighborsClassifier.html#sklearn.neighbors.KNeighborsClassifier\">KNeighborsClassifier</a>)\n",
    "2. Escolhemos quais parâmetros gostaríamos de testar (exemplos: ```n_neighbors```, ```metric```, ```weights``` e ```leaf_size```).\n",
    "3. Escolhemos quais valores testaríamos para cada uma das combinações inserindo-as em um formato de lista.\n",
    "4. Executamos o otimizador para o modelo que queremos otimizar.\n",
    "\n",
    "Observe o funcionamento abaixo. Se possível, teste também diferentes configurações."
   ]
  },
  {
   "cell_type": "code",
   "execution_count": 14,
   "metadata": {},
   "outputs": [],
   "source": [
    "# rodando o encoder antes de otimizar os hiperparâmetros\n",
    "# se tentássemos otimizar *dentro* do pipeline teríamos um erro.\n",
    "X_train_encoded = OrdinalEncoder(handle_unknown='use_encoded_value', unknown_value=-1).fit_transform(X_train)"
   ]
  },
  {
   "cell_type": "code",
   "execution_count": 15,
   "metadata": {},
   "outputs": [],
   "source": [
    "parametros = {\n",
    "    'n_neighbors': [2, 5, 10, 20],\n",
    "    'metric': ['euclidean', 'manhattan', 'chebyshev'],\n",
    "    'weights': ['uniform', 'distance'],\n",
    "    'leaf_size': [10, 30, 50]\n",
    "}"
   ]
  },
  {
   "cell_type": "markdown",
   "metadata": {},
   "source": [
    "Observe que o random search executará mais rápido, mas testará menos alternativas. Observe também que certas combinações são mais rápidas do que outras, e que o score também pode mudar radicalmente dependendo das combinações.\n",
    "\n",
    "Finalmente, o \"CV\" significa cross validation, ou validação cruzada. De uma forma bem simplista ele divide a base de treinamento em cinco partes, treinando com quatro partes e avaliando com a quinta e alternando também entre todas as cinco partes. Se tiver interesse <a href=\"https://scikit-learn.org/stable/modules/cross_validation.html#cross-validation\">você pode aprender mais sobre isto aqui</a>."
   ]
  },
  {
   "cell_type": "code",
   "execution_count": 16,
   "metadata": {},
   "outputs": [
    {
     "name": "stdout",
     "output_type": "stream",
     "text": [
      "Fitting 5 folds for each of 10 candidates, totalling 50 fits\n",
      "[CV 1/5] END leaf_size=10, metric=manhattan, n_neighbors=20, weights=distance;, score=0.375 total time=   0.2s\n",
      "[CV 2/5] END leaf_size=10, metric=manhattan, n_neighbors=20, weights=distance;, score=0.366 total time=   0.2s\n",
      "[CV 3/5] END leaf_size=10, metric=manhattan, n_neighbors=20, weights=distance;, score=0.348 total time=   0.2s\n",
      "[CV 4/5] END leaf_size=10, metric=manhattan, n_neighbors=20, weights=distance;, score=0.401 total time=   0.2s\n",
      "[CV 5/5] END leaf_size=10, metric=manhattan, n_neighbors=20, weights=distance;, score=0.332 total time=   0.2s\n",
      "[CV 1/5] END leaf_size=30, metric=chebyshev, n_neighbors=10, weights=uniform;, score=0.346 total time=   0.3s\n",
      "[CV 2/5] END leaf_size=30, metric=chebyshev, n_neighbors=10, weights=uniform;, score=0.334 total time=   0.3s\n",
      "[CV 3/5] END leaf_size=30, metric=chebyshev, n_neighbors=10, weights=uniform;, score=0.307 total time=   0.3s\n",
      "[CV 4/5] END leaf_size=30, metric=chebyshev, n_neighbors=10, weights=uniform;, score=0.343 total time=   0.3s\n",
      "[CV 5/5] END leaf_size=30, metric=chebyshev, n_neighbors=10, weights=uniform;, score=0.311 total time=   0.3s\n",
      "[CV 1/5] END leaf_size=50, metric=chebyshev, n_neighbors=20, weights=distance;, score=0.341 total time=   0.1s\n",
      "[CV 2/5] END leaf_size=50, metric=chebyshev, n_neighbors=20, weights=distance;, score=0.336 total time=   0.1s\n",
      "[CV 3/5] END leaf_size=50, metric=chebyshev, n_neighbors=20, weights=distance;, score=0.310 total time=   0.1s\n",
      "[CV 4/5] END leaf_size=50, metric=chebyshev, n_neighbors=20, weights=distance;, score=0.347 total time=   0.1s\n",
      "[CV 5/5] END leaf_size=50, metric=chebyshev, n_neighbors=20, weights=distance;, score=0.315 total time=   0.1s\n",
      "[CV 1/5] END leaf_size=50, metric=manhattan, n_neighbors=2, weights=distance;, score=0.478 total time=   0.1s\n",
      "[CV 2/5] END leaf_size=50, metric=manhattan, n_neighbors=2, weights=distance;, score=0.477 total time=   0.1s\n",
      "[CV 3/5] END leaf_size=50, metric=manhattan, n_neighbors=2, weights=distance;, score=0.469 total time=   0.1s\n",
      "[CV 4/5] END leaf_size=50, metric=manhattan, n_neighbors=2, weights=distance;, score=0.500 total time=   0.1s\n",
      "[CV 5/5] END leaf_size=50, metric=manhattan, n_neighbors=2, weights=distance;, score=0.467 total time=   0.1s\n",
      "[CV 1/5] END leaf_size=10, metric=euclidean, n_neighbors=2, weights=uniform;, score=0.374 total time=   0.3s\n",
      "[CV 2/5] END leaf_size=10, metric=euclidean, n_neighbors=2, weights=uniform;, score=0.366 total time=   0.3s\n",
      "[CV 3/5] END leaf_size=10, metric=euclidean, n_neighbors=2, weights=uniform;, score=0.334 total time=   0.3s\n",
      "[CV 4/5] END leaf_size=10, metric=euclidean, n_neighbors=2, weights=uniform;, score=0.397 total time=   0.3s\n",
      "[CV 5/5] END leaf_size=10, metric=euclidean, n_neighbors=2, weights=uniform;, score=0.362 total time=   0.3s\n",
      "[CV 1/5] END leaf_size=10, metric=euclidean, n_neighbors=20, weights=distance;, score=0.354 total time=   0.2s\n",
      "[CV 2/5] END leaf_size=10, metric=euclidean, n_neighbors=20, weights=distance;, score=0.352 total time=   0.2s\n",
      "[CV 3/5] END leaf_size=10, metric=euclidean, n_neighbors=20, weights=distance;, score=0.331 total time=   0.2s\n",
      "[CV 4/5] END leaf_size=10, metric=euclidean, n_neighbors=20, weights=distance;, score=0.368 total time=   0.2s\n",
      "[CV 5/5] END leaf_size=10, metric=euclidean, n_neighbors=20, weights=distance;, score=0.319 total time=   0.2s\n",
      "[CV 1/5] END leaf_size=50, metric=manhattan, n_neighbors=20, weights=uniform;, score=0.274 total time=   0.3s\n",
      "[CV 2/5] END leaf_size=50, metric=manhattan, n_neighbors=20, weights=uniform;, score=0.282 total time=   0.3s\n",
      "[CV 3/5] END leaf_size=50, metric=manhattan, n_neighbors=20, weights=uniform;, score=0.269 total time=   0.3s\n",
      "[CV 4/5] END leaf_size=50, metric=manhattan, n_neighbors=20, weights=uniform;, score=0.306 total time=   0.3s\n",
      "[CV 5/5] END leaf_size=50, metric=manhattan, n_neighbors=20, weights=uniform;, score=0.241 total time=   0.3s\n",
      "[CV 1/5] END leaf_size=10, metric=chebyshev, n_neighbors=20, weights=distance;, score=0.339 total time=   0.2s\n",
      "[CV 2/5] END leaf_size=10, metric=chebyshev, n_neighbors=20, weights=distance;, score=0.331 total time=   0.2s\n",
      "[CV 3/5] END leaf_size=10, metric=chebyshev, n_neighbors=20, weights=distance;, score=0.315 total time=   0.2s\n",
      "[CV 4/5] END leaf_size=10, metric=chebyshev, n_neighbors=20, weights=distance;, score=0.352 total time=   0.2s\n",
      "[CV 5/5] END leaf_size=10, metric=chebyshev, n_neighbors=20, weights=distance;, score=0.312 total time=   0.2s\n",
      "[CV 1/5] END leaf_size=50, metric=chebyshev, n_neighbors=2, weights=uniform;, score=0.356 total time=   0.2s\n",
      "[CV 2/5] END leaf_size=50, metric=chebyshev, n_neighbors=2, weights=uniform;, score=0.358 total time=   0.2s\n",
      "[CV 3/5] END leaf_size=50, metric=chebyshev, n_neighbors=2, weights=uniform;, score=0.313 total time=   0.2s\n",
      "[CV 4/5] END leaf_size=50, metric=chebyshev, n_neighbors=2, weights=uniform;, score=0.368 total time=   0.2s\n",
      "[CV 5/5] END leaf_size=50, metric=chebyshev, n_neighbors=2, weights=uniform;, score=0.361 total time=   0.2s\n",
      "[CV 1/5] END leaf_size=30, metric=manhattan, n_neighbors=10, weights=distance;, score=0.475 total time=   0.2s\n",
      "[CV 2/5] END leaf_size=30, metric=manhattan, n_neighbors=10, weights=distance;, score=0.466 total time=   0.2s\n",
      "[CV 3/5] END leaf_size=30, metric=manhattan, n_neighbors=10, weights=distance;, score=0.430 total time=   0.2s\n",
      "[CV 4/5] END leaf_size=30, metric=manhattan, n_neighbors=10, weights=distance;, score=0.457 total time=   0.2s\n",
      "[CV 5/5] END leaf_size=30, metric=manhattan, n_neighbors=10, weights=distance;, score=0.445 total time=   0.2s\n"
     ]
    },
    {
     "data": {
      "text/plain": [
       "'Melhor classificador segundo o Random Search: '"
      ]
     },
     "metadata": {},
     "output_type": "display_data"
    },
    {
     "data": {
      "text/html": [
       "<style>#sk-53faf460-d704-4b3d-ab4b-1e0278618bd1 {color: black;background-color: white;}#sk-53faf460-d704-4b3d-ab4b-1e0278618bd1 pre{padding: 0;}#sk-53faf460-d704-4b3d-ab4b-1e0278618bd1 div.sk-toggleable {background-color: white;}#sk-53faf460-d704-4b3d-ab4b-1e0278618bd1 label.sk-toggleable__label {cursor: pointer;display: block;width: 100%;margin-bottom: 0;padding: 0.2em 0.3em;box-sizing: border-box;text-align: center;}#sk-53faf460-d704-4b3d-ab4b-1e0278618bd1 div.sk-toggleable__content {max-height: 0;max-width: 0;overflow: hidden;text-align: left;background-color: #f0f8ff;}#sk-53faf460-d704-4b3d-ab4b-1e0278618bd1 div.sk-toggleable__content pre {margin: 0.2em;color: black;border-radius: 0.25em;background-color: #f0f8ff;}#sk-53faf460-d704-4b3d-ab4b-1e0278618bd1 input.sk-toggleable__control:checked~div.sk-toggleable__content {max-height: 200px;max-width: 100%;overflow: auto;}#sk-53faf460-d704-4b3d-ab4b-1e0278618bd1 div.sk-estimator input.sk-toggleable__control:checked~label.sk-toggleable__label {background-color: #d4ebff;}#sk-53faf460-d704-4b3d-ab4b-1e0278618bd1 div.sk-label input.sk-toggleable__control:checked~label.sk-toggleable__label {background-color: #d4ebff;}#sk-53faf460-d704-4b3d-ab4b-1e0278618bd1 input.sk-hidden--visually {border: 0;clip: rect(1px 1px 1px 1px);clip: rect(1px, 1px, 1px, 1px);height: 1px;margin: -1px;overflow: hidden;padding: 0;position: absolute;width: 1px;}#sk-53faf460-d704-4b3d-ab4b-1e0278618bd1 div.sk-estimator {font-family: monospace;background-color: #f0f8ff;margin: 0.25em 0.25em;border: 1px dotted black;border-radius: 0.25em;box-sizing: border-box;}#sk-53faf460-d704-4b3d-ab4b-1e0278618bd1 div.sk-estimator:hover {background-color: #d4ebff;}#sk-53faf460-d704-4b3d-ab4b-1e0278618bd1 div.sk-parallel-item::after {content: \"\";width: 100%;border-bottom: 1px solid gray;flex-grow: 1;}#sk-53faf460-d704-4b3d-ab4b-1e0278618bd1 div.sk-label:hover label.sk-toggleable__label {background-color: #d4ebff;}#sk-53faf460-d704-4b3d-ab4b-1e0278618bd1 div.sk-serial::before {content: \"\";position: absolute;border-left: 1px solid gray;box-sizing: border-box;top: 2em;bottom: 0;left: 50%;}#sk-53faf460-d704-4b3d-ab4b-1e0278618bd1 div.sk-serial {display: flex;flex-direction: column;align-items: center;background-color: white;}#sk-53faf460-d704-4b3d-ab4b-1e0278618bd1 div.sk-item {z-index: 1;}#sk-53faf460-d704-4b3d-ab4b-1e0278618bd1 div.sk-parallel {display: flex;align-items: stretch;justify-content: center;background-color: white;}#sk-53faf460-d704-4b3d-ab4b-1e0278618bd1 div.sk-parallel-item {display: flex;flex-direction: column;position: relative;background-color: white;}#sk-53faf460-d704-4b3d-ab4b-1e0278618bd1 div.sk-parallel-item:first-child::after {align-self: flex-end;width: 50%;}#sk-53faf460-d704-4b3d-ab4b-1e0278618bd1 div.sk-parallel-item:last-child::after {align-self: flex-start;width: 50%;}#sk-53faf460-d704-4b3d-ab4b-1e0278618bd1 div.sk-parallel-item:only-child::after {width: 0;}#sk-53faf460-d704-4b3d-ab4b-1e0278618bd1 div.sk-dashed-wrapped {border: 1px dashed gray;margin: 0.2em;box-sizing: border-box;padding-bottom: 0.1em;background-color: white;position: relative;}#sk-53faf460-d704-4b3d-ab4b-1e0278618bd1 div.sk-label label {font-family: monospace;font-weight: bold;background-color: white;display: inline-block;line-height: 1.2em;}#sk-53faf460-d704-4b3d-ab4b-1e0278618bd1 div.sk-label-container {position: relative;z-index: 2;text-align: center;}#sk-53faf460-d704-4b3d-ab4b-1e0278618bd1 div.sk-container {display: inline-block;position: relative;}</style><div id=\"sk-53faf460-d704-4b3d-ab4b-1e0278618bd1\" class\"sk-top-container\"><div class=\"sk-container\"><div class=\"sk-item\"><div class=\"sk-estimator sk-toggleable\"><input class=\"sk-toggleable__control sk-hidden--visually\" id=\"df8aa387-5421-4d17-8686-e50c128090b0\" type=\"checkbox\" checked><label class=\"sk-toggleable__label\" for=\"df8aa387-5421-4d17-8686-e50c128090b0\">KNeighborsClassifier</label><div class=\"sk-toggleable__content\"><pre>KNeighborsClassifier(leaf_size=50, metric='manhattan', n_neighbors=2,\n",
       "                     weights='distance')</pre></div></div></div></div></div>"
      ],
      "text/plain": [
       "KNeighborsClassifier(leaf_size=50, metric='manhattan', n_neighbors=2,\n",
       "                     weights='distance')"
      ]
     },
     "metadata": {},
     "output_type": "display_data"
    }
   ],
   "source": [
    "# precisaremos encontrar os melhores parâmetros deste modelo.\n",
    "# o parâmetro verbose mostra o passo-a-passo da execução do random search \n",
    "# o parâmetro scoring força que gostaríamos de maximizar o F1 score. Também poderíamos usar outros critérios\n",
    "# lembre que o máximo que conseguimos até agora foi um score de 0.4603\n",
    "clf_random = RandomizedSearchCV(KNeighborsClassifier(), parametros, verbose=3, scoring=make_scorer(f1_score, pos_label=' >50K'))\n",
    "clf_random.fit(X_train_encoded, y_train)\n",
    "\n",
    "# mostrando o melhor modelo segundo o Grid Search\n",
    "best_random_search = clf_random.best_estimator_\n",
    "display('Melhor classificador segundo o Random Search: ')\n",
    "display(best_random_search)"
   ]
  },
  {
   "cell_type": "code",
   "execution_count": 17,
   "metadata": {},
   "outputs": [
    {
     "name": "stdout",
     "output_type": "stream",
     "text": [
      "Fitting 5 folds for each of 72 candidates, totalling 360 fits\n",
      "[CV 1/5] END leaf_size=10, metric=euclidean, n_neighbors=2, weights=uniform;, score=0.374 total time=   0.3s\n",
      "[CV 2/5] END leaf_size=10, metric=euclidean, n_neighbors=2, weights=uniform;, score=0.366 total time=   0.3s\n",
      "[CV 3/5] END leaf_size=10, metric=euclidean, n_neighbors=2, weights=uniform;, score=0.334 total time=   0.3s\n",
      "[CV 4/5] END leaf_size=10, metric=euclidean, n_neighbors=2, weights=uniform;, score=0.397 total time=   0.3s\n",
      "[CV 5/5] END leaf_size=10, metric=euclidean, n_neighbors=2, weights=uniform;, score=0.362 total time=   0.3s\n",
      "[CV 1/5] END leaf_size=10, metric=euclidean, n_neighbors=2, weights=distance;, score=0.457 total time=   0.2s\n",
      "[CV 2/5] END leaf_size=10, metric=euclidean, n_neighbors=2, weights=distance;, score=0.456 total time=   0.2s\n",
      "[CV 3/5] END leaf_size=10, metric=euclidean, n_neighbors=2, weights=distance;, score=0.436 total time=   0.2s\n",
      "[CV 4/5] END leaf_size=10, metric=euclidean, n_neighbors=2, weights=distance;, score=0.473 total time=   0.2s\n",
      "[CV 5/5] END leaf_size=10, metric=euclidean, n_neighbors=2, weights=distance;, score=0.455 total time=   0.2s\n",
      "[CV 1/5] END leaf_size=10, metric=euclidean, n_neighbors=5, weights=uniform;, score=0.451 total time=   0.3s\n",
      "[CV 2/5] END leaf_size=10, metric=euclidean, n_neighbors=5, weights=uniform;, score=0.455 total time=   0.3s\n",
      "[CV 3/5] END leaf_size=10, metric=euclidean, n_neighbors=5, weights=uniform;, score=0.418 total time=   0.3s\n",
      "[CV 4/5] END leaf_size=10, metric=euclidean, n_neighbors=5, weights=uniform;, score=0.441 total time=   0.3s\n",
      "[CV 5/5] END leaf_size=10, metric=euclidean, n_neighbors=5, weights=uniform;, score=0.436 total time=   0.3s\n",
      "[CV 1/5] END leaf_size=10, metric=euclidean, n_neighbors=5, weights=distance;, score=0.456 total time=   0.2s\n",
      "[CV 2/5] END leaf_size=10, metric=euclidean, n_neighbors=5, weights=distance;, score=0.461 total time=   0.2s\n",
      "[CV 3/5] END leaf_size=10, metric=euclidean, n_neighbors=5, weights=distance;, score=0.435 total time=   0.2s\n",
      "[CV 4/5] END leaf_size=10, metric=euclidean, n_neighbors=5, weights=distance;, score=0.443 total time=   0.2s\n",
      "[CV 5/5] END leaf_size=10, metric=euclidean, n_neighbors=5, weights=distance;, score=0.445 total time=   0.2s\n",
      "[CV 1/5] END leaf_size=10, metric=euclidean, n_neighbors=10, weights=uniform;, score=0.358 total time=   0.3s\n",
      "[CV 2/5] END leaf_size=10, metric=euclidean, n_neighbors=10, weights=uniform;, score=0.363 total time=   0.3s\n",
      "[CV 3/5] END leaf_size=10, metric=euclidean, n_neighbors=10, weights=uniform;, score=0.337 total time=   0.3s\n",
      "[CV 4/5] END leaf_size=10, metric=euclidean, n_neighbors=10, weights=uniform;, score=0.370 total time=   0.3s\n",
      "[CV 5/5] END leaf_size=10, metric=euclidean, n_neighbors=10, weights=uniform;, score=0.330 total time=   0.3s\n",
      "[CV 1/5] END leaf_size=10, metric=euclidean, n_neighbors=10, weights=distance;, score=0.433 total time=   0.2s\n",
      "[CV 2/5] END leaf_size=10, metric=euclidean, n_neighbors=10, weights=distance;, score=0.423 total time=   0.2s\n",
      "[CV 3/5] END leaf_size=10, metric=euclidean, n_neighbors=10, weights=distance;, score=0.384 total time=   0.2s\n",
      "[CV 4/5] END leaf_size=10, metric=euclidean, n_neighbors=10, weights=distance;, score=0.434 total time=   0.2s\n",
      "[CV 5/5] END leaf_size=10, metric=euclidean, n_neighbors=10, weights=distance;, score=0.406 total time=   0.2s\n",
      "[CV 1/5] END leaf_size=10, metric=euclidean, n_neighbors=20, weights=uniform;, score=0.275 total time=   0.3s\n",
      "[CV 2/5] END leaf_size=10, metric=euclidean, n_neighbors=20, weights=uniform;, score=0.278 total time=   0.3s\n",
      "[CV 3/5] END leaf_size=10, metric=euclidean, n_neighbors=20, weights=uniform;, score=0.268 total time=   0.3s\n",
      "[CV 4/5] END leaf_size=10, metric=euclidean, n_neighbors=20, weights=uniform;, score=0.283 total time=   0.3s\n",
      "[CV 5/5] END leaf_size=10, metric=euclidean, n_neighbors=20, weights=uniform;, score=0.239 total time=   0.3s\n",
      "[CV 1/5] END leaf_size=10, metric=euclidean, n_neighbors=20, weights=distance;, score=0.354 total time=   0.2s\n",
      "[CV 2/5] END leaf_size=10, metric=euclidean, n_neighbors=20, weights=distance;, score=0.352 total time=   0.2s\n",
      "[CV 3/5] END leaf_size=10, metric=euclidean, n_neighbors=20, weights=distance;, score=0.331 total time=   0.2s\n",
      "[CV 4/5] END leaf_size=10, metric=euclidean, n_neighbors=20, weights=distance;, score=0.368 total time=   0.2s\n",
      "[CV 5/5] END leaf_size=10, metric=euclidean, n_neighbors=20, weights=distance;, score=0.319 total time=   0.2s\n",
      "[CV 1/5] END leaf_size=10, metric=manhattan, n_neighbors=2, weights=uniform;, score=0.415 total time=   0.3s\n",
      "[CV 2/5] END leaf_size=10, metric=manhattan, n_neighbors=2, weights=uniform;, score=0.403 total time=   0.3s\n",
      "[CV 3/5] END leaf_size=10, metric=manhattan, n_neighbors=2, weights=uniform;, score=0.375 total time=   0.3s\n",
      "[CV 4/5] END leaf_size=10, metric=manhattan, n_neighbors=2, weights=uniform;, score=0.415 total time=   0.3s\n",
      "[CV 5/5] END leaf_size=10, metric=manhattan, n_neighbors=2, weights=uniform;, score=0.391 total time=   0.3s\n",
      "[CV 1/5] END leaf_size=10, metric=manhattan, n_neighbors=2, weights=distance;, score=0.478 total time=   0.2s\n",
      "[CV 2/5] END leaf_size=10, metric=manhattan, n_neighbors=2, weights=distance;, score=0.477 total time=   0.2s\n",
      "[CV 3/5] END leaf_size=10, metric=manhattan, n_neighbors=2, weights=distance;, score=0.469 total time=   0.2s\n",
      "[CV 4/5] END leaf_size=10, metric=manhattan, n_neighbors=2, weights=distance;, score=0.500 total time=   0.2s\n",
      "[CV 5/5] END leaf_size=10, metric=manhattan, n_neighbors=2, weights=distance;, score=0.466 total time=   0.2s\n",
      "[CV 1/5] END leaf_size=10, metric=manhattan, n_neighbors=5, weights=uniform;, score=0.479 total time=   0.3s\n",
      "[CV 2/5] END leaf_size=10, metric=manhattan, n_neighbors=5, weights=uniform;, score=0.485 total time=   0.3s\n",
      "[CV 3/5] END leaf_size=10, metric=manhattan, n_neighbors=5, weights=uniform;, score=0.449 total time=   0.3s\n",
      "[CV 4/5] END leaf_size=10, metric=manhattan, n_neighbors=5, weights=uniform;, score=0.482 total time=   0.3s\n",
      "[CV 5/5] END leaf_size=10, metric=manhattan, n_neighbors=5, weights=uniform;, score=0.482 total time=   0.3s\n",
      "[CV 1/5] END leaf_size=10, metric=manhattan, n_neighbors=5, weights=distance;, score=0.491 total time=   0.2s\n",
      "[CV 2/5] END leaf_size=10, metric=manhattan, n_neighbors=5, weights=distance;, score=0.489 total time=   0.2s\n",
      "[CV 3/5] END leaf_size=10, metric=manhattan, n_neighbors=5, weights=distance;, score=0.464 total time=   0.2s\n",
      "[CV 4/5] END leaf_size=10, metric=manhattan, n_neighbors=5, weights=distance;, score=0.491 total time=   0.2s\n",
      "[CV 5/5] END leaf_size=10, metric=manhattan, n_neighbors=5, weights=distance;, score=0.494 total time=   0.2s\n",
      "[CV 1/5] END leaf_size=10, metric=manhattan, n_neighbors=10, weights=uniform;, score=0.395 total time=   0.3s\n",
      "[CV 2/5] END leaf_size=10, metric=manhattan, n_neighbors=10, weights=uniform;, score=0.381 total time=   0.3s\n",
      "[CV 3/5] END leaf_size=10, metric=manhattan, n_neighbors=10, weights=uniform;, score=0.362 total time=   0.3s\n",
      "[CV 4/5] END leaf_size=10, metric=manhattan, n_neighbors=10, weights=uniform;, score=0.402 total time=   0.3s\n",
      "[CV 5/5] END leaf_size=10, metric=manhattan, n_neighbors=10, weights=uniform;, score=0.349 total time=   0.3s\n",
      "[CV 1/5] END leaf_size=10, metric=manhattan, n_neighbors=10, weights=distance;, score=0.477 total time=   0.2s\n",
      "[CV 2/5] END leaf_size=10, metric=manhattan, n_neighbors=10, weights=distance;, score=0.466 total time=   0.2s\n",
      "[CV 3/5] END leaf_size=10, metric=manhattan, n_neighbors=10, weights=distance;, score=0.429 total time=   0.2s\n",
      "[CV 4/5] END leaf_size=10, metric=manhattan, n_neighbors=10, weights=distance;, score=0.459 total time=   0.2s\n",
      "[CV 5/5] END leaf_size=10, metric=manhattan, n_neighbors=10, weights=distance;, score=0.442 total time=   0.2s\n",
      "[CV 1/5] END leaf_size=10, metric=manhattan, n_neighbors=20, weights=uniform;, score=0.275 total time=   0.3s\n",
      "[CV 2/5] END leaf_size=10, metric=manhattan, n_neighbors=20, weights=uniform;, score=0.284 total time=   0.3s\n",
      "[CV 3/5] END leaf_size=10, metric=manhattan, n_neighbors=20, weights=uniform;, score=0.269 total time=   0.3s\n",
      "[CV 4/5] END leaf_size=10, metric=manhattan, n_neighbors=20, weights=uniform;, score=0.304 total time=   0.3s\n"
     ]
    },
    {
     "name": "stdout",
     "output_type": "stream",
     "text": [
      "[CV 5/5] END leaf_size=10, metric=manhattan, n_neighbors=20, weights=uniform;, score=0.241 total time=   0.3s\n",
      "[CV 1/5] END leaf_size=10, metric=manhattan, n_neighbors=20, weights=distance;, score=0.375 total time=   0.2s\n",
      "[CV 2/5] END leaf_size=10, metric=manhattan, n_neighbors=20, weights=distance;, score=0.366 total time=   0.2s\n",
      "[CV 3/5] END leaf_size=10, metric=manhattan, n_neighbors=20, weights=distance;, score=0.348 total time=   0.2s\n",
      "[CV 4/5] END leaf_size=10, metric=manhattan, n_neighbors=20, weights=distance;, score=0.401 total time=   0.2s\n",
      "[CV 5/5] END leaf_size=10, metric=manhattan, n_neighbors=20, weights=distance;, score=0.332 total time=   0.2s\n",
      "[CV 1/5] END leaf_size=10, metric=chebyshev, n_neighbors=2, weights=uniform;, score=0.362 total time=   0.3s\n",
      "[CV 2/5] END leaf_size=10, metric=chebyshev, n_neighbors=2, weights=uniform;, score=0.358 total time=   0.3s\n",
      "[CV 3/5] END leaf_size=10, metric=chebyshev, n_neighbors=2, weights=uniform;, score=0.312 total time=   0.3s\n",
      "[CV 4/5] END leaf_size=10, metric=chebyshev, n_neighbors=2, weights=uniform;, score=0.369 total time=   0.3s\n",
      "[CV 5/5] END leaf_size=10, metric=chebyshev, n_neighbors=2, weights=uniform;, score=0.351 total time=   0.3s\n",
      "[CV 1/5] END leaf_size=10, metric=chebyshev, n_neighbors=2, weights=distance;, score=0.433 total time=   0.1s\n",
      "[CV 2/5] END leaf_size=10, metric=chebyshev, n_neighbors=2, weights=distance;, score=0.424 total time=   0.1s\n",
      "[CV 3/5] END leaf_size=10, metric=chebyshev, n_neighbors=2, weights=distance;, score=0.409 total time=   0.1s\n",
      "[CV 4/5] END leaf_size=10, metric=chebyshev, n_neighbors=2, weights=distance;, score=0.432 total time=   0.1s\n",
      "[CV 5/5] END leaf_size=10, metric=chebyshev, n_neighbors=2, weights=distance;, score=0.432 total time=   0.1s\n",
      "[CV 1/5] END leaf_size=10, metric=chebyshev, n_neighbors=5, weights=uniform;, score=0.417 total time=   0.3s\n",
      "[CV 2/5] END leaf_size=10, metric=chebyshev, n_neighbors=5, weights=uniform;, score=0.432 total time=   0.3s\n",
      "[CV 3/5] END leaf_size=10, metric=chebyshev, n_neighbors=5, weights=uniform;, score=0.401 total time=   0.3s\n",
      "[CV 4/5] END leaf_size=10, metric=chebyshev, n_neighbors=5, weights=uniform;, score=0.429 total time=   0.3s\n",
      "[CV 5/5] END leaf_size=10, metric=chebyshev, n_neighbors=5, weights=uniform;, score=0.419 total time=   0.3s\n",
      "[CV 1/5] END leaf_size=10, metric=chebyshev, n_neighbors=5, weights=distance;, score=0.427 total time=   0.1s\n",
      "[CV 2/5] END leaf_size=10, metric=chebyshev, n_neighbors=5, weights=distance;, score=0.436 total time=   0.1s\n",
      "[CV 3/5] END leaf_size=10, metric=chebyshev, n_neighbors=5, weights=distance;, score=0.413 total time=   0.1s\n",
      "[CV 4/5] END leaf_size=10, metric=chebyshev, n_neighbors=5, weights=distance;, score=0.442 total time=   0.1s\n",
      "[CV 5/5] END leaf_size=10, metric=chebyshev, n_neighbors=5, weights=distance;, score=0.419 total time=   0.1s\n",
      "[CV 1/5] END leaf_size=10, metric=chebyshev, n_neighbors=10, weights=uniform;, score=0.350 total time=   0.3s\n",
      "[CV 2/5] END leaf_size=10, metric=chebyshev, n_neighbors=10, weights=uniform;, score=0.337 total time=   0.3s\n",
      "[CV 3/5] END leaf_size=10, metric=chebyshev, n_neighbors=10, weights=uniform;, score=0.313 total time=   0.3s\n",
      "[CV 4/5] END leaf_size=10, metric=chebyshev, n_neighbors=10, weights=uniform;, score=0.344 total time=   0.3s\n",
      "[CV 5/5] END leaf_size=10, metric=chebyshev, n_neighbors=10, weights=uniform;, score=0.307 total time=   0.3s\n",
      "[CV 1/5] END leaf_size=10, metric=chebyshev, n_neighbors=10, weights=distance;, score=0.401 total time=   0.1s\n",
      "[CV 2/5] END leaf_size=10, metric=chebyshev, n_neighbors=10, weights=distance;, score=0.405 total time=   0.1s\n",
      "[CV 3/5] END leaf_size=10, metric=chebyshev, n_neighbors=10, weights=distance;, score=0.363 total time=   0.1s\n",
      "[CV 4/5] END leaf_size=10, metric=chebyshev, n_neighbors=10, weights=distance;, score=0.419 total time=   0.1s\n",
      "[CV 5/5] END leaf_size=10, metric=chebyshev, n_neighbors=10, weights=distance;, score=0.387 total time=   0.1s\n",
      "[CV 1/5] END leaf_size=10, metric=chebyshev, n_neighbors=20, weights=uniform;, score=0.246 total time=   0.3s\n",
      "[CV 2/5] END leaf_size=10, metric=chebyshev, n_neighbors=20, weights=uniform;, score=0.232 total time=   0.3s\n",
      "[CV 3/5] END leaf_size=10, metric=chebyshev, n_neighbors=20, weights=uniform;, score=0.226 total time=   0.3s\n",
      "[CV 4/5] END leaf_size=10, metric=chebyshev, n_neighbors=20, weights=uniform;, score=0.230 total time=   0.3s\n",
      "[CV 5/5] END leaf_size=10, metric=chebyshev, n_neighbors=20, weights=uniform;, score=0.231 total time=   0.3s\n",
      "[CV 1/5] END leaf_size=10, metric=chebyshev, n_neighbors=20, weights=distance;, score=0.339 total time=   0.2s\n",
      "[CV 2/5] END leaf_size=10, metric=chebyshev, n_neighbors=20, weights=distance;, score=0.331 total time=   0.2s\n",
      "[CV 3/5] END leaf_size=10, metric=chebyshev, n_neighbors=20, weights=distance;, score=0.315 total time=   0.2s\n",
      "[CV 4/5] END leaf_size=10, metric=chebyshev, n_neighbors=20, weights=distance;, score=0.352 total time=   0.2s\n",
      "[CV 5/5] END leaf_size=10, metric=chebyshev, n_neighbors=20, weights=distance;, score=0.312 total time=   0.2s\n",
      "[CV 1/5] END leaf_size=30, metric=euclidean, n_neighbors=2, weights=uniform;, score=0.374 total time=   0.3s\n",
      "[CV 2/5] END leaf_size=30, metric=euclidean, n_neighbors=2, weights=uniform;, score=0.366 total time=   0.3s\n",
      "[CV 3/5] END leaf_size=30, metric=euclidean, n_neighbors=2, weights=uniform;, score=0.334 total time=   0.3s\n",
      "[CV 4/5] END leaf_size=30, metric=euclidean, n_neighbors=2, weights=uniform;, score=0.397 total time=   0.3s\n",
      "[CV 5/5] END leaf_size=30, metric=euclidean, n_neighbors=2, weights=uniform;, score=0.362 total time=   0.3s\n",
      "[CV 1/5] END leaf_size=30, metric=euclidean, n_neighbors=2, weights=distance;, score=0.457 total time=   0.1s\n",
      "[CV 2/5] END leaf_size=30, metric=euclidean, n_neighbors=2, weights=distance;, score=0.456 total time=   0.1s\n",
      "[CV 3/5] END leaf_size=30, metric=euclidean, n_neighbors=2, weights=distance;, score=0.436 total time=   0.1s\n",
      "[CV 4/5] END leaf_size=30, metric=euclidean, n_neighbors=2, weights=distance;, score=0.473 total time=   0.1s\n",
      "[CV 5/5] END leaf_size=30, metric=euclidean, n_neighbors=2, weights=distance;, score=0.455 total time=   0.1s\n",
      "[CV 1/5] END leaf_size=30, metric=euclidean, n_neighbors=5, weights=uniform;, score=0.451 total time=   0.3s\n",
      "[CV 2/5] END leaf_size=30, metric=euclidean, n_neighbors=5, weights=uniform;, score=0.455 total time=   0.3s\n",
      "[CV 3/5] END leaf_size=30, metric=euclidean, n_neighbors=5, weights=uniform;, score=0.418 total time=   0.3s\n",
      "[CV 4/5] END leaf_size=30, metric=euclidean, n_neighbors=5, weights=uniform;, score=0.441 total time=   0.3s\n",
      "[CV 5/5] END leaf_size=30, metric=euclidean, n_neighbors=5, weights=uniform;, score=0.437 total time=   0.3s\n",
      "[CV 1/5] END leaf_size=30, metric=euclidean, n_neighbors=5, weights=distance;, score=0.456 total time=   0.1s\n",
      "[CV 2/5] END leaf_size=30, metric=euclidean, n_neighbors=5, weights=distance;, score=0.461 total time=   0.1s\n",
      "[CV 3/5] END leaf_size=30, metric=euclidean, n_neighbors=5, weights=distance;, score=0.435 total time=   0.1s\n",
      "[CV 4/5] END leaf_size=30, metric=euclidean, n_neighbors=5, weights=distance;, score=0.443 total time=   0.1s\n",
      "[CV 5/5] END leaf_size=30, metric=euclidean, n_neighbors=5, weights=distance;, score=0.446 total time=   0.1s\n",
      "[CV 1/5] END leaf_size=30, metric=euclidean, n_neighbors=10, weights=uniform;, score=0.358 total time=   0.3s\n",
      "[CV 2/5] END leaf_size=30, metric=euclidean, n_neighbors=10, weights=uniform;, score=0.363 total time=   0.3s\n",
      "[CV 3/5] END leaf_size=30, metric=euclidean, n_neighbors=10, weights=uniform;, score=0.337 total time=   0.3s\n",
      "[CV 4/5] END leaf_size=30, metric=euclidean, n_neighbors=10, weights=uniform;, score=0.369 total time=   0.3s\n",
      "[CV 5/5] END leaf_size=30, metric=euclidean, n_neighbors=10, weights=uniform;, score=0.330 total time=   0.3s\n",
      "[CV 1/5] END leaf_size=30, metric=euclidean, n_neighbors=10, weights=distance;, score=0.433 total time=   0.1s\n",
      "[CV 2/5] END leaf_size=30, metric=euclidean, n_neighbors=10, weights=distance;, score=0.423 total time=   0.1s\n",
      "[CV 3/5] END leaf_size=30, metric=euclidean, n_neighbors=10, weights=distance;, score=0.384 total time=   0.1s\n",
      "[CV 4/5] END leaf_size=30, metric=euclidean, n_neighbors=10, weights=distance;, score=0.434 total time=   0.1s\n",
      "[CV 5/5] END leaf_size=30, metric=euclidean, n_neighbors=10, weights=distance;, score=0.406 total time=   0.1s\n"
     ]
    },
    {
     "name": "stdout",
     "output_type": "stream",
     "text": [
      "[CV 1/5] END leaf_size=30, metric=euclidean, n_neighbors=20, weights=uniform;, score=0.275 total time=   0.3s\n",
      "[CV 2/5] END leaf_size=30, metric=euclidean, n_neighbors=20, weights=uniform;, score=0.278 total time=   0.3s\n",
      "[CV 3/5] END leaf_size=30, metric=euclidean, n_neighbors=20, weights=uniform;, score=0.268 total time=   0.3s\n",
      "[CV 4/5] END leaf_size=30, metric=euclidean, n_neighbors=20, weights=uniform;, score=0.283 total time=   0.3s\n",
      "[CV 5/5] END leaf_size=30, metric=euclidean, n_neighbors=20, weights=uniform;, score=0.239 total time=   0.3s\n",
      "[CV 1/5] END leaf_size=30, metric=euclidean, n_neighbors=20, weights=distance;, score=0.354 total time=   0.2s\n",
      "[CV 2/5] END leaf_size=30, metric=euclidean, n_neighbors=20, weights=distance;, score=0.351 total time=   0.2s\n",
      "[CV 3/5] END leaf_size=30, metric=euclidean, n_neighbors=20, weights=distance;, score=0.332 total time=   0.2s\n",
      "[CV 4/5] END leaf_size=30, metric=euclidean, n_neighbors=20, weights=distance;, score=0.368 total time=   0.2s\n",
      "[CV 5/5] END leaf_size=30, metric=euclidean, n_neighbors=20, weights=distance;, score=0.319 total time=   0.2s\n",
      "[CV 1/5] END leaf_size=30, metric=manhattan, n_neighbors=2, weights=uniform;, score=0.417 total time=   0.3s\n",
      "[CV 2/5] END leaf_size=30, metric=manhattan, n_neighbors=2, weights=uniform;, score=0.405 total time=   0.3s\n",
      "[CV 3/5] END leaf_size=30, metric=manhattan, n_neighbors=2, weights=uniform;, score=0.373 total time=   0.3s\n",
      "[CV 4/5] END leaf_size=30, metric=manhattan, n_neighbors=2, weights=uniform;, score=0.414 total time=   0.3s\n",
      "[CV 5/5] END leaf_size=30, metric=manhattan, n_neighbors=2, weights=uniform;, score=0.392 total time=   0.3s\n",
      "[CV 1/5] END leaf_size=30, metric=manhattan, n_neighbors=2, weights=distance;, score=0.478 total time=   0.1s\n",
      "[CV 2/5] END leaf_size=30, metric=manhattan, n_neighbors=2, weights=distance;, score=0.477 total time=   0.1s\n",
      "[CV 3/5] END leaf_size=30, metric=manhattan, n_neighbors=2, weights=distance;, score=0.469 total time=   0.1s\n",
      "[CV 4/5] END leaf_size=30, metric=manhattan, n_neighbors=2, weights=distance;, score=0.500 total time=   0.1s\n",
      "[CV 5/5] END leaf_size=30, metric=manhattan, n_neighbors=2, weights=distance;, score=0.467 total time=   0.1s\n",
      "[CV 1/5] END leaf_size=30, metric=manhattan, n_neighbors=5, weights=uniform;, score=0.480 total time=   0.3s\n",
      "[CV 2/5] END leaf_size=30, metric=manhattan, n_neighbors=5, weights=uniform;, score=0.485 total time=   0.3s\n",
      "[CV 3/5] END leaf_size=30, metric=manhattan, n_neighbors=5, weights=uniform;, score=0.447 total time=   0.3s\n",
      "[CV 4/5] END leaf_size=30, metric=manhattan, n_neighbors=5, weights=uniform;, score=0.481 total time=   0.3s\n",
      "[CV 5/5] END leaf_size=30, metric=manhattan, n_neighbors=5, weights=uniform;, score=0.480 total time=   0.3s\n",
      "[CV 1/5] END leaf_size=30, metric=manhattan, n_neighbors=5, weights=distance;, score=0.490 total time=   0.1s\n",
      "[CV 2/5] END leaf_size=30, metric=manhattan, n_neighbors=5, weights=distance;, score=0.489 total time=   0.1s\n",
      "[CV 3/5] END leaf_size=30, metric=manhattan, n_neighbors=5, weights=distance;, score=0.462 total time=   0.1s\n",
      "[CV 4/5] END leaf_size=30, metric=manhattan, n_neighbors=5, weights=distance;, score=0.490 total time=   0.1s\n",
      "[CV 5/5] END leaf_size=30, metric=manhattan, n_neighbors=5, weights=distance;, score=0.491 total time=   0.1s\n",
      "[CV 1/5] END leaf_size=30, metric=manhattan, n_neighbors=10, weights=uniform;, score=0.396 total time=   0.3s\n",
      "[CV 2/5] END leaf_size=30, metric=manhattan, n_neighbors=10, weights=uniform;, score=0.383 total time=   0.3s\n",
      "[CV 3/5] END leaf_size=30, metric=manhattan, n_neighbors=10, weights=uniform;, score=0.361 total time=   0.3s\n",
      "[CV 4/5] END leaf_size=30, metric=manhattan, n_neighbors=10, weights=uniform;, score=0.399 total time=   0.3s\n",
      "[CV 5/5] END leaf_size=30, metric=manhattan, n_neighbors=10, weights=uniform;, score=0.350 total time=   0.3s\n",
      "[CV 1/5] END leaf_size=30, metric=manhattan, n_neighbors=10, weights=distance;, score=0.475 total time=   0.2s\n",
      "[CV 2/5] END leaf_size=30, metric=manhattan, n_neighbors=10, weights=distance;, score=0.466 total time=   0.2s\n",
      "[CV 3/5] END leaf_size=30, metric=manhattan, n_neighbors=10, weights=distance;, score=0.430 total time=   0.2s\n",
      "[CV 4/5] END leaf_size=30, metric=manhattan, n_neighbors=10, weights=distance;, score=0.457 total time=   0.2s\n",
      "[CV 5/5] END leaf_size=30, metric=manhattan, n_neighbors=10, weights=distance;, score=0.445 total time=   0.2s\n",
      "[CV 1/5] END leaf_size=30, metric=manhattan, n_neighbors=20, weights=uniform;, score=0.277 total time=   0.3s\n",
      "[CV 2/5] END leaf_size=30, metric=manhattan, n_neighbors=20, weights=uniform;, score=0.285 total time=   0.3s\n",
      "[CV 3/5] END leaf_size=30, metric=manhattan, n_neighbors=20, weights=uniform;, score=0.268 total time=   0.3s\n",
      "[CV 4/5] END leaf_size=30, metric=manhattan, n_neighbors=20, weights=uniform;, score=0.306 total time=   0.3s\n",
      "[CV 5/5] END leaf_size=30, metric=manhattan, n_neighbors=20, weights=uniform;, score=0.236 total time=   0.3s\n",
      "[CV 1/5] END leaf_size=30, metric=manhattan, n_neighbors=20, weights=distance;, score=0.377 total time=   0.2s\n",
      "[CV 2/5] END leaf_size=30, metric=manhattan, n_neighbors=20, weights=distance;, score=0.366 total time=   0.2s\n",
      "[CV 3/5] END leaf_size=30, metric=manhattan, n_neighbors=20, weights=distance;, score=0.346 total time=   0.2s\n",
      "[CV 4/5] END leaf_size=30, metric=manhattan, n_neighbors=20, weights=distance;, score=0.401 total time=   0.2s\n",
      "[CV 5/5] END leaf_size=30, metric=manhattan, n_neighbors=20, weights=distance;, score=0.333 total time=   0.2s\n",
      "[CV 1/5] END leaf_size=30, metric=chebyshev, n_neighbors=2, weights=uniform;, score=0.361 total time=   0.2s\n",
      "[CV 2/5] END leaf_size=30, metric=chebyshev, n_neighbors=2, weights=uniform;, score=0.358 total time=   0.3s\n",
      "[CV 3/5] END leaf_size=30, metric=chebyshev, n_neighbors=2, weights=uniform;, score=0.311 total time=   0.3s\n",
      "[CV 4/5] END leaf_size=30, metric=chebyshev, n_neighbors=2, weights=uniform;, score=0.368 total time=   0.3s\n",
      "[CV 5/5] END leaf_size=30, metric=chebyshev, n_neighbors=2, weights=uniform;, score=0.359 total time=   0.2s\n",
      "[CV 1/5] END leaf_size=30, metric=chebyshev, n_neighbors=2, weights=distance;, score=0.434 total time=   0.1s\n",
      "[CV 2/5] END leaf_size=30, metric=chebyshev, n_neighbors=2, weights=distance;, score=0.423 total time=   0.1s\n",
      "[CV 3/5] END leaf_size=30, metric=chebyshev, n_neighbors=2, weights=distance;, score=0.409 total time=   0.1s\n",
      "[CV 4/5] END leaf_size=30, metric=chebyshev, n_neighbors=2, weights=distance;, score=0.433 total time=   0.1s\n",
      "[CV 5/5] END leaf_size=30, metric=chebyshev, n_neighbors=2, weights=distance;, score=0.434 total time=   0.1s\n",
      "[CV 1/5] END leaf_size=30, metric=chebyshev, n_neighbors=5, weights=uniform;, score=0.418 total time=   0.3s\n",
      "[CV 2/5] END leaf_size=30, metric=chebyshev, n_neighbors=5, weights=uniform;, score=0.421 total time=   0.3s\n",
      "[CV 3/5] END leaf_size=30, metric=chebyshev, n_neighbors=5, weights=uniform;, score=0.408 total time=   0.3s\n",
      "[CV 4/5] END leaf_size=30, metric=chebyshev, n_neighbors=5, weights=uniform;, score=0.422 total time=   0.3s\n",
      "[CV 5/5] END leaf_size=30, metric=chebyshev, n_neighbors=5, weights=uniform;, score=0.419 total time=   0.3s\n",
      "[CV 1/5] END leaf_size=30, metric=chebyshev, n_neighbors=5, weights=distance;, score=0.424 total time=   0.1s\n",
      "[CV 2/5] END leaf_size=30, metric=chebyshev, n_neighbors=5, weights=distance;, score=0.430 total time=   0.1s\n",
      "[CV 3/5] END leaf_size=30, metric=chebyshev, n_neighbors=5, weights=distance;, score=0.419 total time=   0.1s\n",
      "[CV 4/5] END leaf_size=30, metric=chebyshev, n_neighbors=5, weights=distance;, score=0.439 total time=   0.1s\n",
      "[CV 5/5] END leaf_size=30, metric=chebyshev, n_neighbors=5, weights=distance;, score=0.417 total time=   0.1s\n",
      "[CV 1/5] END leaf_size=30, metric=chebyshev, n_neighbors=10, weights=uniform;, score=0.346 total time=   0.3s\n",
      "[CV 2/5] END leaf_size=30, metric=chebyshev, n_neighbors=10, weights=uniform;, score=0.334 total time=   0.3s\n",
      "[CV 3/5] END leaf_size=30, metric=chebyshev, n_neighbors=10, weights=uniform;, score=0.307 total time=   0.3s\n",
      "[CV 4/5] END leaf_size=30, metric=chebyshev, n_neighbors=10, weights=uniform;, score=0.343 total time=   0.3s\n",
      "[CV 5/5] END leaf_size=30, metric=chebyshev, n_neighbors=10, weights=uniform;, score=0.311 total time=   0.3s\n",
      "[CV 1/5] END leaf_size=30, metric=chebyshev, n_neighbors=10, weights=distance;, score=0.399 total time=   0.1s\n"
     ]
    },
    {
     "name": "stdout",
     "output_type": "stream",
     "text": [
      "[CV 2/5] END leaf_size=30, metric=chebyshev, n_neighbors=10, weights=distance;, score=0.407 total time=   0.1s\n",
      "[CV 3/5] END leaf_size=30, metric=chebyshev, n_neighbors=10, weights=distance;, score=0.372 total time=   0.1s\n",
      "[CV 4/5] END leaf_size=30, metric=chebyshev, n_neighbors=10, weights=distance;, score=0.413 total time=   0.1s\n",
      "[CV 5/5] END leaf_size=30, metric=chebyshev, n_neighbors=10, weights=distance;, score=0.381 total time=   0.1s\n",
      "[CV 1/5] END leaf_size=30, metric=chebyshev, n_neighbors=20, weights=uniform;, score=0.238 total time=   0.3s\n",
      "[CV 2/5] END leaf_size=30, metric=chebyshev, n_neighbors=20, weights=uniform;, score=0.247 total time=   0.3s\n",
      "[CV 3/5] END leaf_size=30, metric=chebyshev, n_neighbors=20, weights=uniform;, score=0.224 total time=   0.3s\n",
      "[CV 4/5] END leaf_size=30, metric=chebyshev, n_neighbors=20, weights=uniform;, score=0.237 total time=   0.3s\n",
      "[CV 5/5] END leaf_size=30, metric=chebyshev, n_neighbors=20, weights=uniform;, score=0.228 total time=   0.3s\n",
      "[CV 1/5] END leaf_size=30, metric=chebyshev, n_neighbors=20, weights=distance;, score=0.338 total time=   0.1s\n",
      "[CV 2/5] END leaf_size=30, metric=chebyshev, n_neighbors=20, weights=distance;, score=0.336 total time=   0.1s\n",
      "[CV 3/5] END leaf_size=30, metric=chebyshev, n_neighbors=20, weights=distance;, score=0.313 total time=   0.1s\n",
      "[CV 4/5] END leaf_size=30, metric=chebyshev, n_neighbors=20, weights=distance;, score=0.353 total time=   0.1s\n",
      "[CV 5/5] END leaf_size=30, metric=chebyshev, n_neighbors=20, weights=distance;, score=0.321 total time=   0.1s\n",
      "[CV 1/5] END leaf_size=50, metric=euclidean, n_neighbors=2, weights=uniform;, score=0.374 total time=   0.3s\n",
      "[CV 2/5] END leaf_size=50, metric=euclidean, n_neighbors=2, weights=uniform;, score=0.366 total time=   0.3s\n",
      "[CV 3/5] END leaf_size=50, metric=euclidean, n_neighbors=2, weights=uniform;, score=0.334 total time=   0.3s\n",
      "[CV 4/5] END leaf_size=50, metric=euclidean, n_neighbors=2, weights=uniform;, score=0.397 total time=   0.3s\n",
      "[CV 5/5] END leaf_size=50, metric=euclidean, n_neighbors=2, weights=uniform;, score=0.361 total time=   0.3s\n",
      "[CV 1/5] END leaf_size=50, metric=euclidean, n_neighbors=2, weights=distance;, score=0.457 total time=   0.1s\n",
      "[CV 2/5] END leaf_size=50, metric=euclidean, n_neighbors=2, weights=distance;, score=0.456 total time=   0.1s\n",
      "[CV 3/5] END leaf_size=50, metric=euclidean, n_neighbors=2, weights=distance;, score=0.436 total time=   0.1s\n",
      "[CV 4/5] END leaf_size=50, metric=euclidean, n_neighbors=2, weights=distance;, score=0.473 total time=   0.1s\n",
      "[CV 5/5] END leaf_size=50, metric=euclidean, n_neighbors=2, weights=distance;, score=0.455 total time=   0.1s\n",
      "[CV 1/5] END leaf_size=50, metric=euclidean, n_neighbors=5, weights=uniform;, score=0.451 total time=   0.3s\n",
      "[CV 2/5] END leaf_size=50, metric=euclidean, n_neighbors=5, weights=uniform;, score=0.455 total time=   0.3s\n",
      "[CV 3/5] END leaf_size=50, metric=euclidean, n_neighbors=5, weights=uniform;, score=0.418 total time=   0.3s\n",
      "[CV 4/5] END leaf_size=50, metric=euclidean, n_neighbors=5, weights=uniform;, score=0.441 total time=   0.3s\n",
      "[CV 5/5] END leaf_size=50, metric=euclidean, n_neighbors=5, weights=uniform;, score=0.437 total time=   0.3s\n",
      "[CV 1/5] END leaf_size=50, metric=euclidean, n_neighbors=5, weights=distance;, score=0.456 total time=   0.1s\n",
      "[CV 2/5] END leaf_size=50, metric=euclidean, n_neighbors=5, weights=distance;, score=0.461 total time=   0.1s\n",
      "[CV 3/5] END leaf_size=50, metric=euclidean, n_neighbors=5, weights=distance;, score=0.435 total time=   0.1s\n",
      "[CV 4/5] END leaf_size=50, metric=euclidean, n_neighbors=5, weights=distance;, score=0.442 total time=   0.1s\n",
      "[CV 5/5] END leaf_size=50, metric=euclidean, n_neighbors=5, weights=distance;, score=0.446 total time=   0.1s\n",
      "[CV 1/5] END leaf_size=50, metric=euclidean, n_neighbors=10, weights=uniform;, score=0.358 total time=   0.3s\n",
      "[CV 2/5] END leaf_size=50, metric=euclidean, n_neighbors=10, weights=uniform;, score=0.363 total time=   0.3s\n",
      "[CV 3/5] END leaf_size=50, metric=euclidean, n_neighbors=10, weights=uniform;, score=0.337 total time=   0.3s\n",
      "[CV 4/5] END leaf_size=50, metric=euclidean, n_neighbors=10, weights=uniform;, score=0.370 total time=   0.3s\n",
      "[CV 5/5] END leaf_size=50, metric=euclidean, n_neighbors=10, weights=uniform;, score=0.330 total time=   0.3s\n",
      "[CV 1/5] END leaf_size=50, metric=euclidean, n_neighbors=10, weights=distance;, score=0.433 total time=   0.1s\n",
      "[CV 2/5] END leaf_size=50, metric=euclidean, n_neighbors=10, weights=distance;, score=0.423 total time=   0.1s\n",
      "[CV 3/5] END leaf_size=50, metric=euclidean, n_neighbors=10, weights=distance;, score=0.384 total time=   0.1s\n",
      "[CV 4/5] END leaf_size=50, metric=euclidean, n_neighbors=10, weights=distance;, score=0.434 total time=   0.1s\n",
      "[CV 5/5] END leaf_size=50, metric=euclidean, n_neighbors=10, weights=distance;, score=0.406 total time=   0.1s\n",
      "[CV 1/5] END leaf_size=50, metric=euclidean, n_neighbors=20, weights=uniform;, score=0.275 total time=   0.3s\n",
      "[CV 2/5] END leaf_size=50, metric=euclidean, n_neighbors=20, weights=uniform;, score=0.278 total time=   0.3s\n",
      "[CV 3/5] END leaf_size=50, metric=euclidean, n_neighbors=20, weights=uniform;, score=0.268 total time=   0.3s\n",
      "[CV 4/5] END leaf_size=50, metric=euclidean, n_neighbors=20, weights=uniform;, score=0.283 total time=   0.3s\n",
      "[CV 5/5] END leaf_size=50, metric=euclidean, n_neighbors=20, weights=uniform;, score=0.239 total time=   0.3s\n",
      "[CV 1/5] END leaf_size=50, metric=euclidean, n_neighbors=20, weights=distance;, score=0.354 total time=   0.1s\n",
      "[CV 2/5] END leaf_size=50, metric=euclidean, n_neighbors=20, weights=distance;, score=0.351 total time=   0.2s\n",
      "[CV 3/5] END leaf_size=50, metric=euclidean, n_neighbors=20, weights=distance;, score=0.332 total time=   0.1s\n",
      "[CV 4/5] END leaf_size=50, metric=euclidean, n_neighbors=20, weights=distance;, score=0.368 total time=   0.2s\n",
      "[CV 5/5] END leaf_size=50, metric=euclidean, n_neighbors=20, weights=distance;, score=0.319 total time=   0.2s\n",
      "[CV 1/5] END leaf_size=50, metric=manhattan, n_neighbors=2, weights=uniform;, score=0.416 total time=   0.3s\n",
      "[CV 2/5] END leaf_size=50, metric=manhattan, n_neighbors=2, weights=uniform;, score=0.406 total time=   0.3s\n",
      "[CV 3/5] END leaf_size=50, metric=manhattan, n_neighbors=2, weights=uniform;, score=0.373 total time=   0.3s\n",
      "[CV 4/5] END leaf_size=50, metric=manhattan, n_neighbors=2, weights=uniform;, score=0.414 total time=   0.3s\n",
      "[CV 5/5] END leaf_size=50, metric=manhattan, n_neighbors=2, weights=uniform;, score=0.390 total time=   0.3s\n",
      "[CV 1/5] END leaf_size=50, metric=manhattan, n_neighbors=2, weights=distance;, score=0.478 total time=   0.1s\n",
      "[CV 2/5] END leaf_size=50, metric=manhattan, n_neighbors=2, weights=distance;, score=0.477 total time=   0.1s\n",
      "[CV 3/5] END leaf_size=50, metric=manhattan, n_neighbors=2, weights=distance;, score=0.469 total time=   0.1s\n",
      "[CV 4/5] END leaf_size=50, metric=manhattan, n_neighbors=2, weights=distance;, score=0.500 total time=   0.1s\n",
      "[CV 5/5] END leaf_size=50, metric=manhattan, n_neighbors=2, weights=distance;, score=0.467 total time=   0.1s\n",
      "[CV 1/5] END leaf_size=50, metric=manhattan, n_neighbors=5, weights=uniform;, score=0.483 total time=   0.3s\n",
      "[CV 2/5] END leaf_size=50, metric=manhattan, n_neighbors=5, weights=uniform;, score=0.487 total time=   0.3s\n",
      "[CV 3/5] END leaf_size=50, metric=manhattan, n_neighbors=5, weights=uniform;, score=0.450 total time=   0.3s\n",
      "[CV 4/5] END leaf_size=50, metric=manhattan, n_neighbors=5, weights=uniform;, score=0.485 total time=   0.3s\n",
      "[CV 5/5] END leaf_size=50, metric=manhattan, n_neighbors=5, weights=uniform;, score=0.480 total time=   0.3s\n",
      "[CV 1/5] END leaf_size=50, metric=manhattan, n_neighbors=5, weights=distance;, score=0.494 total time=   0.1s\n",
      "[CV 2/5] END leaf_size=50, metric=manhattan, n_neighbors=5, weights=distance;, score=0.491 total time=   0.2s\n",
      "[CV 3/5] END leaf_size=50, metric=manhattan, n_neighbors=5, weights=distance;, score=0.464 total time=   0.1s\n",
      "[CV 4/5] END leaf_size=50, metric=manhattan, n_neighbors=5, weights=distance;, score=0.493 total time=   0.1s\n",
      "[CV 5/5] END leaf_size=50, metric=manhattan, n_neighbors=5, weights=distance;, score=0.492 total time=   0.1s\n",
      "[CV 1/5] END leaf_size=50, metric=manhattan, n_neighbors=10, weights=uniform;, score=0.396 total time=   0.3s\n"
     ]
    },
    {
     "name": "stdout",
     "output_type": "stream",
     "text": [
      "[CV 2/5] END leaf_size=50, metric=manhattan, n_neighbors=10, weights=uniform;, score=0.382 total time=   0.3s\n",
      "[CV 3/5] END leaf_size=50, metric=manhattan, n_neighbors=10, weights=uniform;, score=0.361 total time=   0.3s\n",
      "[CV 4/5] END leaf_size=50, metric=manhattan, n_neighbors=10, weights=uniform;, score=0.402 total time=   0.3s\n",
      "[CV 5/5] END leaf_size=50, metric=manhattan, n_neighbors=10, weights=uniform;, score=0.352 total time=   0.3s\n",
      "[CV 1/5] END leaf_size=50, metric=manhattan, n_neighbors=10, weights=distance;, score=0.474 total time=   0.1s\n",
      "[CV 2/5] END leaf_size=50, metric=manhattan, n_neighbors=10, weights=distance;, score=0.462 total time=   0.2s\n",
      "[CV 3/5] END leaf_size=50, metric=manhattan, n_neighbors=10, weights=distance;, score=0.430 total time=   0.1s\n",
      "[CV 4/5] END leaf_size=50, metric=manhattan, n_neighbors=10, weights=distance;, score=0.455 total time=   0.2s\n",
      "[CV 5/5] END leaf_size=50, metric=manhattan, n_neighbors=10, weights=distance;, score=0.440 total time=   0.1s\n",
      "[CV 1/5] END leaf_size=50, metric=manhattan, n_neighbors=20, weights=uniform;, score=0.274 total time=   0.3s\n",
      "[CV 2/5] END leaf_size=50, metric=manhattan, n_neighbors=20, weights=uniform;, score=0.282 total time=   0.3s\n",
      "[CV 3/5] END leaf_size=50, metric=manhattan, n_neighbors=20, weights=uniform;, score=0.269 total time=   0.3s\n",
      "[CV 4/5] END leaf_size=50, metric=manhattan, n_neighbors=20, weights=uniform;, score=0.306 total time=   0.3s\n",
      "[CV 5/5] END leaf_size=50, metric=manhattan, n_neighbors=20, weights=uniform;, score=0.241 total time=   0.3s\n",
      "[CV 1/5] END leaf_size=50, metric=manhattan, n_neighbors=20, weights=distance;, score=0.374 total time=   0.2s\n",
      "[CV 2/5] END leaf_size=50, metric=manhattan, n_neighbors=20, weights=distance;, score=0.366 total time=   0.2s\n",
      "[CV 3/5] END leaf_size=50, metric=manhattan, n_neighbors=20, weights=distance;, score=0.349 total time=   0.2s\n",
      "[CV 4/5] END leaf_size=50, metric=manhattan, n_neighbors=20, weights=distance;, score=0.399 total time=   0.2s\n",
      "[CV 5/5] END leaf_size=50, metric=manhattan, n_neighbors=20, weights=distance;, score=0.333 total time=   0.2s\n",
      "[CV 1/5] END leaf_size=50, metric=chebyshev, n_neighbors=2, weights=uniform;, score=0.356 total time=   0.2s\n",
      "[CV 2/5] END leaf_size=50, metric=chebyshev, n_neighbors=2, weights=uniform;, score=0.358 total time=   0.2s\n",
      "[CV 3/5] END leaf_size=50, metric=chebyshev, n_neighbors=2, weights=uniform;, score=0.313 total time=   0.2s\n",
      "[CV 4/5] END leaf_size=50, metric=chebyshev, n_neighbors=2, weights=uniform;, score=0.368 total time=   0.2s\n",
      "[CV 5/5] END leaf_size=50, metric=chebyshev, n_neighbors=2, weights=uniform;, score=0.361 total time=   0.2s\n",
      "[CV 1/5] END leaf_size=50, metric=chebyshev, n_neighbors=2, weights=distance;, score=0.432 total time=   0.1s\n",
      "[CV 2/5] END leaf_size=50, metric=chebyshev, n_neighbors=2, weights=distance;, score=0.425 total time=   0.1s\n",
      "[CV 3/5] END leaf_size=50, metric=chebyshev, n_neighbors=2, weights=distance;, score=0.409 total time=   0.1s\n",
      "[CV 4/5] END leaf_size=50, metric=chebyshev, n_neighbors=2, weights=distance;, score=0.433 total time=   0.1s\n",
      "[CV 5/5] END leaf_size=50, metric=chebyshev, n_neighbors=2, weights=distance;, score=0.433 total time=   0.1s\n",
      "[CV 1/5] END leaf_size=50, metric=chebyshev, n_neighbors=5, weights=uniform;, score=0.418 total time=   0.3s\n",
      "[CV 2/5] END leaf_size=50, metric=chebyshev, n_neighbors=5, weights=uniform;, score=0.420 total time=   0.3s\n",
      "[CV 3/5] END leaf_size=50, metric=chebyshev, n_neighbors=5, weights=uniform;, score=0.407 total time=   0.3s\n",
      "[CV 4/5] END leaf_size=50, metric=chebyshev, n_neighbors=5, weights=uniform;, score=0.424 total time=   0.3s\n",
      "[CV 5/5] END leaf_size=50, metric=chebyshev, n_neighbors=5, weights=uniform;, score=0.421 total time=   0.3s\n",
      "[CV 1/5] END leaf_size=50, metric=chebyshev, n_neighbors=5, weights=distance;, score=0.422 total time=   0.1s\n",
      "[CV 2/5] END leaf_size=50, metric=chebyshev, n_neighbors=5, weights=distance;, score=0.430 total time=   0.1s\n",
      "[CV 3/5] END leaf_size=50, metric=chebyshev, n_neighbors=5, weights=distance;, score=0.419 total time=   0.1s\n",
      "[CV 4/5] END leaf_size=50, metric=chebyshev, n_neighbors=5, weights=distance;, score=0.441 total time=   0.1s\n",
      "[CV 5/5] END leaf_size=50, metric=chebyshev, n_neighbors=5, weights=distance;, score=0.421 total time=   0.1s\n",
      "[CV 1/5] END leaf_size=50, metric=chebyshev, n_neighbors=10, weights=uniform;, score=0.342 total time=   0.3s\n",
      "[CV 2/5] END leaf_size=50, metric=chebyshev, n_neighbors=10, weights=uniform;, score=0.337 total time=   0.3s\n",
      "[CV 3/5] END leaf_size=50, metric=chebyshev, n_neighbors=10, weights=uniform;, score=0.306 total time=   0.3s\n",
      "[CV 4/5] END leaf_size=50, metric=chebyshev, n_neighbors=10, weights=uniform;, score=0.345 total time=   0.3s\n",
      "[CV 5/5] END leaf_size=50, metric=chebyshev, n_neighbors=10, weights=uniform;, score=0.301 total time=   0.3s\n",
      "[CV 1/5] END leaf_size=50, metric=chebyshev, n_neighbors=10, weights=distance;, score=0.400 total time=   0.1s\n",
      "[CV 2/5] END leaf_size=50, metric=chebyshev, n_neighbors=10, weights=distance;, score=0.410 total time=   0.1s\n",
      "[CV 3/5] END leaf_size=50, metric=chebyshev, n_neighbors=10, weights=distance;, score=0.366 total time=   0.1s\n",
      "[CV 4/5] END leaf_size=50, metric=chebyshev, n_neighbors=10, weights=distance;, score=0.416 total time=   0.1s\n",
      "[CV 5/5] END leaf_size=50, metric=chebyshev, n_neighbors=10, weights=distance;, score=0.382 total time=   0.1s\n",
      "[CV 1/5] END leaf_size=50, metric=chebyshev, n_neighbors=20, weights=uniform;, score=0.242 total time=   0.3s\n",
      "[CV 2/5] END leaf_size=50, metric=chebyshev, n_neighbors=20, weights=uniform;, score=0.232 total time=   0.3s\n",
      "[CV 3/5] END leaf_size=50, metric=chebyshev, n_neighbors=20, weights=uniform;, score=0.217 total time=   0.3s\n",
      "[CV 4/5] END leaf_size=50, metric=chebyshev, n_neighbors=20, weights=uniform;, score=0.236 total time=   0.3s\n",
      "[CV 5/5] END leaf_size=50, metric=chebyshev, n_neighbors=20, weights=uniform;, score=0.221 total time=   0.3s\n",
      "[CV 1/5] END leaf_size=50, metric=chebyshev, n_neighbors=20, weights=distance;, score=0.341 total time=   0.1s\n",
      "[CV 2/5] END leaf_size=50, metric=chebyshev, n_neighbors=20, weights=distance;, score=0.336 total time=   0.1s\n",
      "[CV 3/5] END leaf_size=50, metric=chebyshev, n_neighbors=20, weights=distance;, score=0.310 total time=   0.1s\n",
      "[CV 4/5] END leaf_size=50, metric=chebyshev, n_neighbors=20, weights=distance;, score=0.347 total time=   0.1s\n",
      "[CV 5/5] END leaf_size=50, metric=chebyshev, n_neighbors=20, weights=distance;, score=0.315 total time=   0.1s\n"
     ]
    },
    {
     "data": {
      "text/plain": [
       "'Melhor classificador segundo o Grid Search: '"
      ]
     },
     "metadata": {},
     "output_type": "display_data"
    },
    {
     "data": {
      "text/html": [
       "<style>#sk-1b787d20-5ac6-4926-bb07-f1090a458db8 {color: black;background-color: white;}#sk-1b787d20-5ac6-4926-bb07-f1090a458db8 pre{padding: 0;}#sk-1b787d20-5ac6-4926-bb07-f1090a458db8 div.sk-toggleable {background-color: white;}#sk-1b787d20-5ac6-4926-bb07-f1090a458db8 label.sk-toggleable__label {cursor: pointer;display: block;width: 100%;margin-bottom: 0;padding: 0.2em 0.3em;box-sizing: border-box;text-align: center;}#sk-1b787d20-5ac6-4926-bb07-f1090a458db8 div.sk-toggleable__content {max-height: 0;max-width: 0;overflow: hidden;text-align: left;background-color: #f0f8ff;}#sk-1b787d20-5ac6-4926-bb07-f1090a458db8 div.sk-toggleable__content pre {margin: 0.2em;color: black;border-radius: 0.25em;background-color: #f0f8ff;}#sk-1b787d20-5ac6-4926-bb07-f1090a458db8 input.sk-toggleable__control:checked~div.sk-toggleable__content {max-height: 200px;max-width: 100%;overflow: auto;}#sk-1b787d20-5ac6-4926-bb07-f1090a458db8 div.sk-estimator input.sk-toggleable__control:checked~label.sk-toggleable__label {background-color: #d4ebff;}#sk-1b787d20-5ac6-4926-bb07-f1090a458db8 div.sk-label input.sk-toggleable__control:checked~label.sk-toggleable__label {background-color: #d4ebff;}#sk-1b787d20-5ac6-4926-bb07-f1090a458db8 input.sk-hidden--visually {border: 0;clip: rect(1px 1px 1px 1px);clip: rect(1px, 1px, 1px, 1px);height: 1px;margin: -1px;overflow: hidden;padding: 0;position: absolute;width: 1px;}#sk-1b787d20-5ac6-4926-bb07-f1090a458db8 div.sk-estimator {font-family: monospace;background-color: #f0f8ff;margin: 0.25em 0.25em;border: 1px dotted black;border-radius: 0.25em;box-sizing: border-box;}#sk-1b787d20-5ac6-4926-bb07-f1090a458db8 div.sk-estimator:hover {background-color: #d4ebff;}#sk-1b787d20-5ac6-4926-bb07-f1090a458db8 div.sk-parallel-item::after {content: \"\";width: 100%;border-bottom: 1px solid gray;flex-grow: 1;}#sk-1b787d20-5ac6-4926-bb07-f1090a458db8 div.sk-label:hover label.sk-toggleable__label {background-color: #d4ebff;}#sk-1b787d20-5ac6-4926-bb07-f1090a458db8 div.sk-serial::before {content: \"\";position: absolute;border-left: 1px solid gray;box-sizing: border-box;top: 2em;bottom: 0;left: 50%;}#sk-1b787d20-5ac6-4926-bb07-f1090a458db8 div.sk-serial {display: flex;flex-direction: column;align-items: center;background-color: white;}#sk-1b787d20-5ac6-4926-bb07-f1090a458db8 div.sk-item {z-index: 1;}#sk-1b787d20-5ac6-4926-bb07-f1090a458db8 div.sk-parallel {display: flex;align-items: stretch;justify-content: center;background-color: white;}#sk-1b787d20-5ac6-4926-bb07-f1090a458db8 div.sk-parallel-item {display: flex;flex-direction: column;position: relative;background-color: white;}#sk-1b787d20-5ac6-4926-bb07-f1090a458db8 div.sk-parallel-item:first-child::after {align-self: flex-end;width: 50%;}#sk-1b787d20-5ac6-4926-bb07-f1090a458db8 div.sk-parallel-item:last-child::after {align-self: flex-start;width: 50%;}#sk-1b787d20-5ac6-4926-bb07-f1090a458db8 div.sk-parallel-item:only-child::after {width: 0;}#sk-1b787d20-5ac6-4926-bb07-f1090a458db8 div.sk-dashed-wrapped {border: 1px dashed gray;margin: 0.2em;box-sizing: border-box;padding-bottom: 0.1em;background-color: white;position: relative;}#sk-1b787d20-5ac6-4926-bb07-f1090a458db8 div.sk-label label {font-family: monospace;font-weight: bold;background-color: white;display: inline-block;line-height: 1.2em;}#sk-1b787d20-5ac6-4926-bb07-f1090a458db8 div.sk-label-container {position: relative;z-index: 2;text-align: center;}#sk-1b787d20-5ac6-4926-bb07-f1090a458db8 div.sk-container {display: inline-block;position: relative;}</style><div id=\"sk-1b787d20-5ac6-4926-bb07-f1090a458db8\" class\"sk-top-container\"><div class=\"sk-container\"><div class=\"sk-item\"><div class=\"sk-estimator sk-toggleable\"><input class=\"sk-toggleable__control sk-hidden--visually\" id=\"497dc158-4011-4c6f-a237-271e81d5a56f\" type=\"checkbox\" checked><label class=\"sk-toggleable__label\" for=\"497dc158-4011-4c6f-a237-271e81d5a56f\">KNeighborsClassifier</label><div class=\"sk-toggleable__content\"><pre>KNeighborsClassifier(leaf_size=50, metric='manhattan', weights='distance')</pre></div></div></div></div></div>"
      ],
      "text/plain": [
       "KNeighborsClassifier(leaf_size=50, metric='manhattan', weights='distance')"
      ]
     },
     "metadata": {},
     "output_type": "display_data"
    }
   ],
   "source": [
    "# precisaremos encontrar os melhores parâmetros deste modelo.\n",
    "# o parâmetro verbose mostra o passo-a-passo da execução do grid search \n",
    "# o parâmetro scoring força que gostaríamos de maximizar o F1 score. Também poderíamos usar outros critérios\n",
    "# lembre que o máximo que conseguimos até agora foi um score de 0.4603\n",
    "clf_grid = GridSearchCV(KNeighborsClassifier(), parametros, verbose=3, scoring=make_scorer(f1_score, pos_label=' >50K'))\n",
    "clf_grid.fit(X_train_encoded, y_train)\n",
    "\n",
    "# mostrando o melhor modelo segundo o Grid Search\n",
    "best_grid_search = clf_grid.best_estimator_\n",
    "display('Melhor classificador segundo o Grid Search: ')\n",
    "display(best_grid_search)"
   ]
  },
  {
   "cell_type": "markdown",
   "metadata": {},
   "source": [
    "Em alguns casos o random search poderá chegar à mesma conclusão do grid search, mas de uma forma bem mais rápida. Por outro lado, não podemos **garantir** que o random search sempre chegará à melhor solução. Neste **caso em específico** ambos não encontraram uma mesma combinação do ```KNeighborsClassifier```.\n",
    "\n",
    "Finalmente, vamos comparar os resultados:"
   ]
  },
  {
   "cell_type": "code",
   "execution_count": 18,
   "metadata": {},
   "outputs": [
    {
     "data": {
      "text/plain": [
       "\"Resultados de y_pred: [' <=50K' ' <=50K' ' <=50K' ... ' >50K' ' <=50K' ' >50K']\""
      ]
     },
     "metadata": {},
     "output_type": "display_data"
    },
    {
     "data": {
      "text/plain": [
       "'Passos do pipeline (para fins ilustrativos):'"
      ]
     },
     "metadata": {},
     "output_type": "display_data"
    },
    {
     "data": {
      "text/html": [
       "<style>#sk-d5949bd8-a8c4-45dd-937a-1597bdbe29b9 {color: black;background-color: white;}#sk-d5949bd8-a8c4-45dd-937a-1597bdbe29b9 pre{padding: 0;}#sk-d5949bd8-a8c4-45dd-937a-1597bdbe29b9 div.sk-toggleable {background-color: white;}#sk-d5949bd8-a8c4-45dd-937a-1597bdbe29b9 label.sk-toggleable__label {cursor: pointer;display: block;width: 100%;margin-bottom: 0;padding: 0.2em 0.3em;box-sizing: border-box;text-align: center;}#sk-d5949bd8-a8c4-45dd-937a-1597bdbe29b9 div.sk-toggleable__content {max-height: 0;max-width: 0;overflow: hidden;text-align: left;background-color: #f0f8ff;}#sk-d5949bd8-a8c4-45dd-937a-1597bdbe29b9 div.sk-toggleable__content pre {margin: 0.2em;color: black;border-radius: 0.25em;background-color: #f0f8ff;}#sk-d5949bd8-a8c4-45dd-937a-1597bdbe29b9 input.sk-toggleable__control:checked~div.sk-toggleable__content {max-height: 200px;max-width: 100%;overflow: auto;}#sk-d5949bd8-a8c4-45dd-937a-1597bdbe29b9 div.sk-estimator input.sk-toggleable__control:checked~label.sk-toggleable__label {background-color: #d4ebff;}#sk-d5949bd8-a8c4-45dd-937a-1597bdbe29b9 div.sk-label input.sk-toggleable__control:checked~label.sk-toggleable__label {background-color: #d4ebff;}#sk-d5949bd8-a8c4-45dd-937a-1597bdbe29b9 input.sk-hidden--visually {border: 0;clip: rect(1px 1px 1px 1px);clip: rect(1px, 1px, 1px, 1px);height: 1px;margin: -1px;overflow: hidden;padding: 0;position: absolute;width: 1px;}#sk-d5949bd8-a8c4-45dd-937a-1597bdbe29b9 div.sk-estimator {font-family: monospace;background-color: #f0f8ff;margin: 0.25em 0.25em;border: 1px dotted black;border-radius: 0.25em;box-sizing: border-box;}#sk-d5949bd8-a8c4-45dd-937a-1597bdbe29b9 div.sk-estimator:hover {background-color: #d4ebff;}#sk-d5949bd8-a8c4-45dd-937a-1597bdbe29b9 div.sk-parallel-item::after {content: \"\";width: 100%;border-bottom: 1px solid gray;flex-grow: 1;}#sk-d5949bd8-a8c4-45dd-937a-1597bdbe29b9 div.sk-label:hover label.sk-toggleable__label {background-color: #d4ebff;}#sk-d5949bd8-a8c4-45dd-937a-1597bdbe29b9 div.sk-serial::before {content: \"\";position: absolute;border-left: 1px solid gray;box-sizing: border-box;top: 2em;bottom: 0;left: 50%;}#sk-d5949bd8-a8c4-45dd-937a-1597bdbe29b9 div.sk-serial {display: flex;flex-direction: column;align-items: center;background-color: white;}#sk-d5949bd8-a8c4-45dd-937a-1597bdbe29b9 div.sk-item {z-index: 1;}#sk-d5949bd8-a8c4-45dd-937a-1597bdbe29b9 div.sk-parallel {display: flex;align-items: stretch;justify-content: center;background-color: white;}#sk-d5949bd8-a8c4-45dd-937a-1597bdbe29b9 div.sk-parallel-item {display: flex;flex-direction: column;position: relative;background-color: white;}#sk-d5949bd8-a8c4-45dd-937a-1597bdbe29b9 div.sk-parallel-item:first-child::after {align-self: flex-end;width: 50%;}#sk-d5949bd8-a8c4-45dd-937a-1597bdbe29b9 div.sk-parallel-item:last-child::after {align-self: flex-start;width: 50%;}#sk-d5949bd8-a8c4-45dd-937a-1597bdbe29b9 div.sk-parallel-item:only-child::after {width: 0;}#sk-d5949bd8-a8c4-45dd-937a-1597bdbe29b9 div.sk-dashed-wrapped {border: 1px dashed gray;margin: 0.2em;box-sizing: border-box;padding-bottom: 0.1em;background-color: white;position: relative;}#sk-d5949bd8-a8c4-45dd-937a-1597bdbe29b9 div.sk-label label {font-family: monospace;font-weight: bold;background-color: white;display: inline-block;line-height: 1.2em;}#sk-d5949bd8-a8c4-45dd-937a-1597bdbe29b9 div.sk-label-container {position: relative;z-index: 2;text-align: center;}#sk-d5949bd8-a8c4-45dd-937a-1597bdbe29b9 div.sk-container {display: inline-block;position: relative;}</style><div id=\"sk-d5949bd8-a8c4-45dd-937a-1597bdbe29b9\" class\"sk-top-container\"><div class=\"sk-container\"><div class=\"sk-item sk-dashed-wrapped\"><div class=\"sk-label-container\"><div class=\"sk-label sk-toggleable\"><input class=\"sk-toggleable__control sk-hidden--visually\" id=\"cf20978a-7f52-448e-b6c9-46fcd4dfbc66\" type=\"checkbox\" ><label class=\"sk-toggleable__label\" for=\"cf20978a-7f52-448e-b6c9-46fcd4dfbc66\">Pipeline</label><div class=\"sk-toggleable__content\"><pre>Pipeline(steps=[('encoder',\n",
       "                 OrdinalEncoder(handle_unknown='use_encoded_value',\n",
       "                                unknown_value=-1)),\n",
       "                ('modelo', KNeighborsClassifier())])</pre></div></div></div><div class=\"sk-serial\"><div class=\"sk-item\"><div class=\"sk-estimator sk-toggleable\"><input class=\"sk-toggleable__control sk-hidden--visually\" id=\"ccd01470-551d-4626-b819-a848509eb617\" type=\"checkbox\" ><label class=\"sk-toggleable__label\" for=\"ccd01470-551d-4626-b819-a848509eb617\">OrdinalEncoder</label><div class=\"sk-toggleable__content\"><pre>OrdinalEncoder(handle_unknown='use_encoded_value', unknown_value=-1)</pre></div></div></div><div class=\"sk-item\"><div class=\"sk-estimator sk-toggleable\"><input class=\"sk-toggleable__control sk-hidden--visually\" id=\"d3b89fcc-f94c-4b36-b89c-9c4ca12ee966\" type=\"checkbox\" ><label class=\"sk-toggleable__label\" for=\"d3b89fcc-f94c-4b36-b89c-9c4ca12ee966\">KNeighborsClassifier</label><div class=\"sk-toggleable__content\"><pre>KNeighborsClassifier()</pre></div></div></div></div></div></div></div>"
      ],
      "text/plain": [
       "Pipeline(steps=[('encoder',\n",
       "                 OrdinalEncoder(handle_unknown='use_encoded_value',\n",
       "                                unknown_value=-1)),\n",
       "                ('modelo', KNeighborsClassifier())])"
      ]
     },
     "execution_count": 18,
     "metadata": {},
     "output_type": "execute_result"
    }
   ],
   "source": [
    "pipe_original = Pipeline([('encoder', OrdinalEncoder(handle_unknown='use_encoded_value', unknown_value=-1)),\n",
    "                          ('modelo', KNeighborsClassifier())]).fit(X_train, y_train)\n",
    "\n",
    "y_pred_original = pipe_original.predict(X_test)\n",
    "display(f'Resultados de y_pred: {y_pred_original}')\n",
    "\n",
    "display(f'Passos do pipeline (para fins ilustrativos):')\n",
    "pipe_original"
   ]
  },
  {
   "cell_type": "code",
   "execution_count": 19,
   "metadata": {},
   "outputs": [
    {
     "data": {
      "text/plain": [
       "\"Resultados de y_pred: [' <=50K' ' <=50K' ' <=50K' ... ' >50K' ' <=50K' ' >50K']\""
      ]
     },
     "metadata": {},
     "output_type": "display_data"
    },
    {
     "data": {
      "text/plain": [
       "'Passos do pipeline (para fins ilustrativos):'"
      ]
     },
     "metadata": {},
     "output_type": "display_data"
    },
    {
     "data": {
      "text/html": [
       "<style>#sk-36517569-80c2-4c68-a35b-ac2b487de4fe {color: black;background-color: white;}#sk-36517569-80c2-4c68-a35b-ac2b487de4fe pre{padding: 0;}#sk-36517569-80c2-4c68-a35b-ac2b487de4fe div.sk-toggleable {background-color: white;}#sk-36517569-80c2-4c68-a35b-ac2b487de4fe label.sk-toggleable__label {cursor: pointer;display: block;width: 100%;margin-bottom: 0;padding: 0.2em 0.3em;box-sizing: border-box;text-align: center;}#sk-36517569-80c2-4c68-a35b-ac2b487de4fe div.sk-toggleable__content {max-height: 0;max-width: 0;overflow: hidden;text-align: left;background-color: #f0f8ff;}#sk-36517569-80c2-4c68-a35b-ac2b487de4fe div.sk-toggleable__content pre {margin: 0.2em;color: black;border-radius: 0.25em;background-color: #f0f8ff;}#sk-36517569-80c2-4c68-a35b-ac2b487de4fe input.sk-toggleable__control:checked~div.sk-toggleable__content {max-height: 200px;max-width: 100%;overflow: auto;}#sk-36517569-80c2-4c68-a35b-ac2b487de4fe div.sk-estimator input.sk-toggleable__control:checked~label.sk-toggleable__label {background-color: #d4ebff;}#sk-36517569-80c2-4c68-a35b-ac2b487de4fe div.sk-label input.sk-toggleable__control:checked~label.sk-toggleable__label {background-color: #d4ebff;}#sk-36517569-80c2-4c68-a35b-ac2b487de4fe input.sk-hidden--visually {border: 0;clip: rect(1px 1px 1px 1px);clip: rect(1px, 1px, 1px, 1px);height: 1px;margin: -1px;overflow: hidden;padding: 0;position: absolute;width: 1px;}#sk-36517569-80c2-4c68-a35b-ac2b487de4fe div.sk-estimator {font-family: monospace;background-color: #f0f8ff;margin: 0.25em 0.25em;border: 1px dotted black;border-radius: 0.25em;box-sizing: border-box;}#sk-36517569-80c2-4c68-a35b-ac2b487de4fe div.sk-estimator:hover {background-color: #d4ebff;}#sk-36517569-80c2-4c68-a35b-ac2b487de4fe div.sk-parallel-item::after {content: \"\";width: 100%;border-bottom: 1px solid gray;flex-grow: 1;}#sk-36517569-80c2-4c68-a35b-ac2b487de4fe div.sk-label:hover label.sk-toggleable__label {background-color: #d4ebff;}#sk-36517569-80c2-4c68-a35b-ac2b487de4fe div.sk-serial::before {content: \"\";position: absolute;border-left: 1px solid gray;box-sizing: border-box;top: 2em;bottom: 0;left: 50%;}#sk-36517569-80c2-4c68-a35b-ac2b487de4fe div.sk-serial {display: flex;flex-direction: column;align-items: center;background-color: white;}#sk-36517569-80c2-4c68-a35b-ac2b487de4fe div.sk-item {z-index: 1;}#sk-36517569-80c2-4c68-a35b-ac2b487de4fe div.sk-parallel {display: flex;align-items: stretch;justify-content: center;background-color: white;}#sk-36517569-80c2-4c68-a35b-ac2b487de4fe div.sk-parallel-item {display: flex;flex-direction: column;position: relative;background-color: white;}#sk-36517569-80c2-4c68-a35b-ac2b487de4fe div.sk-parallel-item:first-child::after {align-self: flex-end;width: 50%;}#sk-36517569-80c2-4c68-a35b-ac2b487de4fe div.sk-parallel-item:last-child::after {align-self: flex-start;width: 50%;}#sk-36517569-80c2-4c68-a35b-ac2b487de4fe div.sk-parallel-item:only-child::after {width: 0;}#sk-36517569-80c2-4c68-a35b-ac2b487de4fe div.sk-dashed-wrapped {border: 1px dashed gray;margin: 0.2em;box-sizing: border-box;padding-bottom: 0.1em;background-color: white;position: relative;}#sk-36517569-80c2-4c68-a35b-ac2b487de4fe div.sk-label label {font-family: monospace;font-weight: bold;background-color: white;display: inline-block;line-height: 1.2em;}#sk-36517569-80c2-4c68-a35b-ac2b487de4fe div.sk-label-container {position: relative;z-index: 2;text-align: center;}#sk-36517569-80c2-4c68-a35b-ac2b487de4fe div.sk-container {display: inline-block;position: relative;}</style><div id=\"sk-36517569-80c2-4c68-a35b-ac2b487de4fe\" class\"sk-top-container\"><div class=\"sk-container\"><div class=\"sk-item sk-dashed-wrapped\"><div class=\"sk-label-container\"><div class=\"sk-label sk-toggleable\"><input class=\"sk-toggleable__control sk-hidden--visually\" id=\"426cd2a2-f221-4e5a-89cb-ae010d87e31e\" type=\"checkbox\" ><label class=\"sk-toggleable__label\" for=\"426cd2a2-f221-4e5a-89cb-ae010d87e31e\">Pipeline</label><div class=\"sk-toggleable__content\"><pre>Pipeline(steps=[('encoder',\n",
       "                 OrdinalEncoder(handle_unknown='use_encoded_value',\n",
       "                                unknown_value=-1)),\n",
       "                ('modelo',\n",
       "                 KNeighborsClassifier(leaf_size=50, metric='manhattan',\n",
       "                                      n_neighbors=2, weights='distance'))])</pre></div></div></div><div class=\"sk-serial\"><div class=\"sk-item\"><div class=\"sk-estimator sk-toggleable\"><input class=\"sk-toggleable__control sk-hidden--visually\" id=\"b940979f-7fd8-4fd6-884e-37d8c8967141\" type=\"checkbox\" ><label class=\"sk-toggleable__label\" for=\"b940979f-7fd8-4fd6-884e-37d8c8967141\">OrdinalEncoder</label><div class=\"sk-toggleable__content\"><pre>OrdinalEncoder(handle_unknown='use_encoded_value', unknown_value=-1)</pre></div></div></div><div class=\"sk-item\"><div class=\"sk-estimator sk-toggleable\"><input class=\"sk-toggleable__control sk-hidden--visually\" id=\"6f36e73e-f205-4ff4-b468-b1c00f5e8c82\" type=\"checkbox\" ><label class=\"sk-toggleable__label\" for=\"6f36e73e-f205-4ff4-b468-b1c00f5e8c82\">KNeighborsClassifier</label><div class=\"sk-toggleable__content\"><pre>KNeighborsClassifier(leaf_size=50, metric='manhattan', n_neighbors=2,\n",
       "                     weights='distance')</pre></div></div></div></div></div></div></div>"
      ],
      "text/plain": [
       "Pipeline(steps=[('encoder',\n",
       "                 OrdinalEncoder(handle_unknown='use_encoded_value',\n",
       "                                unknown_value=-1)),\n",
       "                ('modelo',\n",
       "                 KNeighborsClassifier(leaf_size=50, metric='manhattan',\n",
       "                                      n_neighbors=2, weights='distance'))])"
      ]
     },
     "execution_count": 19,
     "metadata": {},
     "output_type": "execute_result"
    }
   ],
   "source": [
    "pipe_otimizado_randomsearch = Pipeline([('encoder', OrdinalEncoder(handle_unknown='use_encoded_value', unknown_value=-1)),\n",
    "                                        ('modelo', best_random_search)]).fit(X_train, y_train)\n",
    "\n",
    "y_pred_otimizado_randomsearch = pipe_otimizado_randomsearch.predict(X_test)\n",
    "display(f'Resultados de y_pred: {y_pred_otimizado_randomsearch}')\n",
    "\n",
    "display(f'Passos do pipeline (para fins ilustrativos):')\n",
    "pipe_otimizado_randomsearch"
   ]
  },
  {
   "cell_type": "code",
   "execution_count": 20,
   "metadata": {},
   "outputs": [
    {
     "data": {
      "text/plain": [
       "\"Resultados de y_pred: [' <=50K' ' <=50K' ' <=50K' ... ' >50K' ' <=50K' ' >50K']\""
      ]
     },
     "metadata": {},
     "output_type": "display_data"
    },
    {
     "data": {
      "text/plain": [
       "'Passos do pipeline (para fins ilustrativos):'"
      ]
     },
     "metadata": {},
     "output_type": "display_data"
    },
    {
     "data": {
      "text/html": [
       "<style>#sk-e3bb03af-1c16-41f6-9f8f-aba92b567bbc {color: black;background-color: white;}#sk-e3bb03af-1c16-41f6-9f8f-aba92b567bbc pre{padding: 0;}#sk-e3bb03af-1c16-41f6-9f8f-aba92b567bbc div.sk-toggleable {background-color: white;}#sk-e3bb03af-1c16-41f6-9f8f-aba92b567bbc label.sk-toggleable__label {cursor: pointer;display: block;width: 100%;margin-bottom: 0;padding: 0.2em 0.3em;box-sizing: border-box;text-align: center;}#sk-e3bb03af-1c16-41f6-9f8f-aba92b567bbc div.sk-toggleable__content {max-height: 0;max-width: 0;overflow: hidden;text-align: left;background-color: #f0f8ff;}#sk-e3bb03af-1c16-41f6-9f8f-aba92b567bbc div.sk-toggleable__content pre {margin: 0.2em;color: black;border-radius: 0.25em;background-color: #f0f8ff;}#sk-e3bb03af-1c16-41f6-9f8f-aba92b567bbc input.sk-toggleable__control:checked~div.sk-toggleable__content {max-height: 200px;max-width: 100%;overflow: auto;}#sk-e3bb03af-1c16-41f6-9f8f-aba92b567bbc div.sk-estimator input.sk-toggleable__control:checked~label.sk-toggleable__label {background-color: #d4ebff;}#sk-e3bb03af-1c16-41f6-9f8f-aba92b567bbc div.sk-label input.sk-toggleable__control:checked~label.sk-toggleable__label {background-color: #d4ebff;}#sk-e3bb03af-1c16-41f6-9f8f-aba92b567bbc input.sk-hidden--visually {border: 0;clip: rect(1px 1px 1px 1px);clip: rect(1px, 1px, 1px, 1px);height: 1px;margin: -1px;overflow: hidden;padding: 0;position: absolute;width: 1px;}#sk-e3bb03af-1c16-41f6-9f8f-aba92b567bbc div.sk-estimator {font-family: monospace;background-color: #f0f8ff;margin: 0.25em 0.25em;border: 1px dotted black;border-radius: 0.25em;box-sizing: border-box;}#sk-e3bb03af-1c16-41f6-9f8f-aba92b567bbc div.sk-estimator:hover {background-color: #d4ebff;}#sk-e3bb03af-1c16-41f6-9f8f-aba92b567bbc div.sk-parallel-item::after {content: \"\";width: 100%;border-bottom: 1px solid gray;flex-grow: 1;}#sk-e3bb03af-1c16-41f6-9f8f-aba92b567bbc div.sk-label:hover label.sk-toggleable__label {background-color: #d4ebff;}#sk-e3bb03af-1c16-41f6-9f8f-aba92b567bbc div.sk-serial::before {content: \"\";position: absolute;border-left: 1px solid gray;box-sizing: border-box;top: 2em;bottom: 0;left: 50%;}#sk-e3bb03af-1c16-41f6-9f8f-aba92b567bbc div.sk-serial {display: flex;flex-direction: column;align-items: center;background-color: white;}#sk-e3bb03af-1c16-41f6-9f8f-aba92b567bbc div.sk-item {z-index: 1;}#sk-e3bb03af-1c16-41f6-9f8f-aba92b567bbc div.sk-parallel {display: flex;align-items: stretch;justify-content: center;background-color: white;}#sk-e3bb03af-1c16-41f6-9f8f-aba92b567bbc div.sk-parallel-item {display: flex;flex-direction: column;position: relative;background-color: white;}#sk-e3bb03af-1c16-41f6-9f8f-aba92b567bbc div.sk-parallel-item:first-child::after {align-self: flex-end;width: 50%;}#sk-e3bb03af-1c16-41f6-9f8f-aba92b567bbc div.sk-parallel-item:last-child::after {align-self: flex-start;width: 50%;}#sk-e3bb03af-1c16-41f6-9f8f-aba92b567bbc div.sk-parallel-item:only-child::after {width: 0;}#sk-e3bb03af-1c16-41f6-9f8f-aba92b567bbc div.sk-dashed-wrapped {border: 1px dashed gray;margin: 0.2em;box-sizing: border-box;padding-bottom: 0.1em;background-color: white;position: relative;}#sk-e3bb03af-1c16-41f6-9f8f-aba92b567bbc div.sk-label label {font-family: monospace;font-weight: bold;background-color: white;display: inline-block;line-height: 1.2em;}#sk-e3bb03af-1c16-41f6-9f8f-aba92b567bbc div.sk-label-container {position: relative;z-index: 2;text-align: center;}#sk-e3bb03af-1c16-41f6-9f8f-aba92b567bbc div.sk-container {display: inline-block;position: relative;}</style><div id=\"sk-e3bb03af-1c16-41f6-9f8f-aba92b567bbc\" class\"sk-top-container\"><div class=\"sk-container\"><div class=\"sk-item sk-dashed-wrapped\"><div class=\"sk-label-container\"><div class=\"sk-label sk-toggleable\"><input class=\"sk-toggleable__control sk-hidden--visually\" id=\"55676ae7-4d61-487a-9236-425f4a368b81\" type=\"checkbox\" ><label class=\"sk-toggleable__label\" for=\"55676ae7-4d61-487a-9236-425f4a368b81\">Pipeline</label><div class=\"sk-toggleable__content\"><pre>Pipeline(steps=[('encoder',\n",
       "                 OrdinalEncoder(handle_unknown='use_encoded_value',\n",
       "                                unknown_value=-1)),\n",
       "                ('modelo',\n",
       "                 KNeighborsClassifier(leaf_size=50, metric='manhattan',\n",
       "                                      weights='distance'))])</pre></div></div></div><div class=\"sk-serial\"><div class=\"sk-item\"><div class=\"sk-estimator sk-toggleable\"><input class=\"sk-toggleable__control sk-hidden--visually\" id=\"a24afaaf-16ce-4de7-abea-015d39eb4580\" type=\"checkbox\" ><label class=\"sk-toggleable__label\" for=\"a24afaaf-16ce-4de7-abea-015d39eb4580\">OrdinalEncoder</label><div class=\"sk-toggleable__content\"><pre>OrdinalEncoder(handle_unknown='use_encoded_value', unknown_value=-1)</pre></div></div></div><div class=\"sk-item\"><div class=\"sk-estimator sk-toggleable\"><input class=\"sk-toggleable__control sk-hidden--visually\" id=\"467e97e5-ba94-4b7f-b74a-75bcdf9bdbcf\" type=\"checkbox\" ><label class=\"sk-toggleable__label\" for=\"467e97e5-ba94-4b7f-b74a-75bcdf9bdbcf\">KNeighborsClassifier</label><div class=\"sk-toggleable__content\"><pre>KNeighborsClassifier(leaf_size=50, metric='manhattan', weights='distance')</pre></div></div></div></div></div></div></div>"
      ],
      "text/plain": [
       "Pipeline(steps=[('encoder',\n",
       "                 OrdinalEncoder(handle_unknown='use_encoded_value',\n",
       "                                unknown_value=-1)),\n",
       "                ('modelo',\n",
       "                 KNeighborsClassifier(leaf_size=50, metric='manhattan',\n",
       "                                      weights='distance'))])"
      ]
     },
     "execution_count": 20,
     "metadata": {},
     "output_type": "execute_result"
    }
   ],
   "source": [
    "pipe_otimizado_gridsearch = Pipeline([('encoder', OrdinalEncoder(handle_unknown='use_encoded_value', unknown_value=-1)),\n",
    "                                      ('modelo', best_grid_search)]).fit(X_train, y_train)\n",
    "\n",
    "y_pred_otimizado_gridsearch = pipe_otimizado_gridsearch.predict(X_test)\n",
    "display(f'Resultados de y_pred: {y_pred_otimizado_gridsearch}')\n",
    "\n",
    "display(f'Passos do pipeline (para fins ilustrativos):')\n",
    "pipe_otimizado_gridsearch"
   ]
  },
  {
   "cell_type": "code",
   "execution_count": 21,
   "metadata": {},
   "outputs": [
    {
     "data": {
      "text/plain": [
       "'Resultados para o pipeline original: 0.4603330068560235'"
      ]
     },
     "metadata": {},
     "output_type": "display_data"
    },
    {
     "data": {
      "text/plain": [
       "'Resultados para o pipeline otimizado via RandomSearchCV: 0.5195236776516201'"
      ]
     },
     "metadata": {},
     "output_type": "display_data"
    },
    {
     "data": {
      "text/plain": [
       "'Resultados para o pipeline otimizado via GridSearchCV: 0.5190039318479687'"
      ]
     },
     "metadata": {},
     "output_type": "display_data"
    }
   ],
   "source": [
    "display(f\"Resultados para o pipeline original: {f1_score(y_test, y_pred_original, pos_label=' >50K')}\")\n",
    "display(f\"Resultados para o pipeline otimizado via RandomSearchCV: {f1_score(y_test, y_pred_otimizado_randomsearch, pos_label=' >50K')}\")\n",
    "display(f\"Resultados para o pipeline otimizado via GridSearchCV: {f1_score(y_test, y_pred_otimizado_gridsearch, pos_label=' >50K')}\")"
   ]
  },
  {
   "cell_type": "markdown",
   "metadata": {},
   "source": [
    "Observe que foi possível melhorar a performance. Para este caso o ```KNeighborsClassifier``` ainda não foi melhor do que os demais, mas conseguimos ter uma melhora. Em casos reais, uma melhora de 0.05 pode ser a diferença entre ter um algoritmo que a área de negócios não se sente confiante com um outro algoritmo no qual a área de negócio sente-se mais à vontade para trabalhar."
   ]
  },
  {
   "cell_type": "code",
   "execution_count": null,
   "metadata": {},
   "outputs": [],
   "source": []
  }
 ],
 "metadata": {
  "kernelspec": {
   "display_name": "Python 3",
   "language": "python",
   "name": "python3"
  },
  "language_info": {
   "codemirror_mode": {
    "name": "ipython",
    "version": 3
   },
   "file_extension": ".py",
   "mimetype": "text/x-python",
   "name": "python",
   "nbconvert_exporter": "python",
   "pygments_lexer": "ipython3",
   "version": "3.8.5"
  }
 },
 "nbformat": 4,
 "nbformat_minor": 4
}
